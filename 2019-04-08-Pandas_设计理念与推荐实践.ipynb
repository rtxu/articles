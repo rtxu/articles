{
  "nbformat": 4,
  "nbformat_minor": 0,
  "metadata": {
    "colab": {
      "name": "Pandas 设计理念与推荐实践.ipynb",
      "version": "0.3.2",
      "provenance": [],
      "toc_visible": true
    },
    "kernelspec": {
      "name": "python3",
      "display_name": "Python 3"
    }
  },
  "cells": [
    {
      "metadata": {
        "id": "xyxCmkUDHq8l",
        "colab_type": "text"
      },
      "cell_type": "markdown",
      "source": [
        "# 准备数据集\n",
        "\n"
      ]
    },
    {
      "metadata": {
        "id": "atOcOSgpUJag",
        "colab_type": "code",
        "outputId": "095cffc1-8412-4535-845c-d1b72ddad840",
        "colab": {
          "base_uri": "https://localhost:8080/",
          "height": 122
        }
      },
      "cell_type": "code",
      "source": [
        "from google.colab import drive\n",
        "drive.mount('/gdrive')"
      ],
      "execution_count": 1,
      "outputs": [
        {
          "output_type": "stream",
          "text": [
            "Go to this URL in a browser: https://accounts.google.com/o/oauth2/auth?client_id=947318989803-6bn6qk8qdgf4n4g3pfee6491hc0brc4i.apps.googleusercontent.com&redirect_uri=urn%3Aietf%3Awg%3Aoauth%3A2.0%3Aoob&scope=email%20https%3A%2F%2Fwww.googleapis.com%2Fauth%2Fdocs.test%20https%3A%2F%2Fwww.googleapis.com%2Fauth%2Fdrive%20https%3A%2F%2Fwww.googleapis.com%2Fauth%2Fdrive.photos.readonly%20https%3A%2F%2Fwww.googleapis.com%2Fauth%2Fpeopleapi.readonly&response_type=code\n",
            "\n",
            "Enter your authorization code:\n",
            "··········\n",
            "Mounted at /gdrive\n"
          ],
          "name": "stdout"
        }
      ]
    },
    {
      "metadata": {
        "id": "o90XLrHrUJY9",
        "colab_type": "code",
        "outputId": "7433cfb8-ccbb-4e3a-e359-a5a69d42f431",
        "colab": {
          "base_uri": "https://localhost:8080/",
          "height": 51
        }
      },
      "cell_type": "code",
      "source": [
        "!unzip /gdrive/My\\ Drive/Colab\\ Notebooks/datasets/jb084sr9005_ct_statewide_2019_02_25.csv.zip"
      ],
      "execution_count": 2,
      "outputs": [
        {
          "output_type": "stream",
          "text": [
            "Archive:  /gdrive/My Drive/Colab Notebooks/datasets/jb084sr9005_ct_statewide_2019_02_25.csv.zip\n",
            "  inflating: share/data/opp-for-archive/ct_statewide_2019_02_25.csv  \n"
          ],
          "name": "stdout"
        }
      ]
    },
    {
      "metadata": {
        "id": "l2uIGEeSTkk0",
        "colab_type": "code",
        "colab": {}
      },
      "cell_type": "code",
      "source": [
        "config = {\n",
        "    'data_file': './share/data/opp-for-archive/ct_statewide_2019_02_25.csv',\n",
        "}"
      ],
      "execution_count": 0,
      "outputs": []
    },
    {
      "metadata": {
        "id": "zo_yw5CATOKO",
        "colab_type": "text"
      },
      "cell_type": "markdown",
      "source": [
        "# Introduction\n",
        "\n",
        "做了一场 tianchi 的比赛，发现自己当前的思维方式主要是 SQL 模式，无法自由切换至 pandas 模式，浪费了不少时间，决定刻意练习一下"
      ]
    },
    {
      "metadata": {
        "id": "VCWVr2CLJ114",
        "colab_type": "code",
        "colab": {}
      },
      "cell_type": "code",
      "source": [
        "import numpy as np\n",
        "import pandas as pd"
      ],
      "execution_count": 0,
      "outputs": []
    },
    {
      "metadata": {
        "id": "7EnXO5DjH2wj",
        "colab_type": "text"
      },
      "cell_type": "markdown",
      "source": [
        "# Series\n",
        "\n",
        "虽然 pandas 的官方文档中称 Series 为 1维同数据类型的数组，但我感觉 Series 更像是仅有一列的 DataFrame。\n",
        "\n",
        "\n",
        "\n"
      ]
    },
    {
      "metadata": {
        "id": "MzNLhGjoTfcg",
        "colab_type": "text"
      },
      "cell_type": "markdown",
      "source": [
        "## 主要属性\n",
        "\n",
        "\n",
        "* index：每一行有个唯一 id，index 是行 id 的集合\n",
        "* name：列名\n",
        "* values：底层的 ndarray，详见 [values、get_values() 与 array、to_numpy()](#scrollTo=HbGzBPre-sOL)\n",
        "\n",
        "来自 ndarray 的属性：\n",
        "\n",
        "* ndim：对于 Series 来说，永远为 1\n",
        "* shape：对于 Series 来说，永远为 (n, )，n 为数组中的元素数\n",
        "* dtype：列数据类型"
      ]
    },
    {
      "metadata": {
        "id": "T3PiTIJkGqKw",
        "colab_type": "code",
        "colab": {}
      },
      "cell_type": "code",
      "source": [
        "s = pd.Series(data = [1, 3, 5, 7], name = 'column_name_1')"
      ],
      "execution_count": 0,
      "outputs": []
    },
    {
      "metadata": {
        "id": "mZxkFmC2GyNc",
        "colab_type": "code",
        "outputId": "230d5366-5daa-444c-b791-426b841979f7",
        "colab": {
          "base_uri": "https://localhost:8080/",
          "height": 221
        }
      },
      "cell_type": "code",
      "source": [
        "print('name:', s.name)\n",
        "print('index:', s.index)\n",
        "print('dtype:', s.dtype)\n",
        "print('values:', s.values)\n",
        "print('ndim:', s.ndim)\n",
        "print('shape:', s.shape)\n",
        "print('=== s ===')\n",
        "print(s)"
      ],
      "execution_count": 6,
      "outputs": [
        {
          "output_type": "stream",
          "text": [
            "name: column_name_1\n",
            "index: RangeIndex(start=0, stop=4, step=1)\n",
            "dtype: int64\n",
            "values: [1 3 5 7]\n",
            "ndim: 1\n",
            "shape: (4,)\n",
            "=== s ===\n",
            "0    1\n",
            "1    3\n",
            "2    5\n",
            "3    7\n",
            "Name: column_name_1, dtype: int64\n"
          ],
          "name": "stdout"
        }
      ]
    },
    {
      "metadata": {
        "id": "RMPvUTsMTOfd",
        "colab_type": "text"
      },
      "cell_type": "markdown",
      "source": [
        "## 知识点：dtype\n",
        "\n",
        "dtype 本身是一个 class，其 instance 用以描述数据类型，numpy 根据 dtype 决定内存中的数据如何解释，包括但不限于：\n",
        "\n",
        "* 数据类型（整数、浮点数、Python object 等）\n",
        "* 数据大小（占用多少字节）\n",
        "* 字节序（大端 or 小端）\n",
        "* ...\n",
        "\n",
        "numpy 预定义了 [24 个 dtype](https://docs.scipy.org/doc/numpy/reference/arrays.scalars.html#arrays-scalars-built-in)，涵盖了常见的数据类型，如：np.int8，np.float16 等\n",
        "\n",
        "除此之外，还可以通过字符串构造 dtype，如 'uint8' 等同于 np.uint8\n",
        "\n",
        "除了 numpy 内置的数据类型外，[pandas 还扩展了 numpy 的类型系统](http://pandas.pydata.org/pandas-docs/stable/reference/arrays.html)，引入了 7 种新的 dtype：\n",
        "\n",
        "* TZ-aware datetime：知道时区的 datetime 类型\n",
        "* Timedelta：时间差类型\n",
        "* Period：周期类型（如：每周一5点）\n",
        "* Interval：区间类型（左开右闭区间等）\n",
        "* Nullable Integer：\n",
        "* Categorical：类似于其他语言的枚举值，超出枚举范围的值为 np.nan\n",
        "* Sparse"
      ]
    },
    {
      "metadata": {
        "id": "2Tgt1lMp8G4H",
        "colab_type": "text"
      },
      "cell_type": "markdown",
      "source": [
        "## 坑：Immutability——产生新对象，不改变旧对象\n",
        "\n",
        "### Data Structure\n",
        "\n",
        "The best way to think about the pandas data structures is as flexible containers for lower dimensional data. For example, DataFrame is a container for Series, and Series is a container for scalars. We would like to be able to insert and remove objects from these containers in a dictionary-like fashion.\n",
        "\n",
        "理解 pandas 数据结构的最好方式是将其想象成容纳低维数据的容器\n",
        "\n",
        "* DataFrame 是 Series 的容器\n",
        "* Series 是标量数据的容器\n",
        "\n",
        "---\n",
        "\n",
        "### Mutability and copying of data \n",
        "\n",
        "All pandas data structures are value-mutable (the values they contain can be altered) but not always size-mutable. The length of a Series cannot be changed, but, for example, columns can be inserted into a DataFrame. However, the vast majority of methods **produce new objects and leave the input data untouched**. In general we like to **favor immutability** where sensible.\n",
        "\n",
        "容器包含的内容可以改变，但容器的大小并不总是可以改变。比如，Series 的长度不可改变，但是 DataFrame 却可以增减列。\n",
        "\n",
        "大量 pandas 方法产生新对象，而不改变旧对象。"
      ]
    },
    {
      "metadata": {
        "id": "8WfY8iU2S53o",
        "colab_type": "code",
        "outputId": "5ce09946-f3a8-464a-b533-c03ea9299fdd",
        "colab": {
          "base_uri": "https://localhost:8080/",
          "height": 238
        }
      },
      "cell_type": "code",
      "source": [
        "s.astype(np.int8)\n",
        "print('astype 并不改变原 Series，而是返回一个新的 Series')\n",
        "print('原 Series：')\n",
        "print(s)\n",
        "print('所以一定要记得赋值，赋值后的 Series:')\n",
        "s = s.astype(np.int8)\n",
        "print(s)\n"
      ],
      "execution_count": 7,
      "outputs": [
        {
          "output_type": "stream",
          "text": [
            "astype 并不改变原 Series，而是返回一个新的 Series\n",
            "原 Series：\n",
            "0    1\n",
            "1    3\n",
            "2    5\n",
            "3    7\n",
            "Name: column_name_1, dtype: int64\n",
            "所以一定要记得赋值，赋值后的 Series:\n",
            "0    1\n",
            "1    3\n",
            "2    5\n",
            "3    7\n",
            "Name: column_name_1, dtype: int8\n"
          ],
          "name": "stdout"
        }
      ]
    },
    {
      "metadata": {
        "id": "eWlkocfnDqt3",
        "colab_type": "text"
      },
      "cell_type": "markdown",
      "source": [
        "## 坑：[Series.reset_index()](http://pandas.pydata.org/pandas-docs/stable/reference/api/pandas.Series.reset_index.html)\n",
        "\n",
        "**CAUTION：Series -> DataFrame**\n",
        "\n",
        "无论对于 Series 还是 DataFrame，reset_index 的含义都是将当前 index 作为一个新 column 添加至原容器，添加完后 Series 由 1 列变 2 列，进而成为 DataFrame；而 DataFrame 由 n 列变为 n+1 列"
      ]
    },
    {
      "metadata": {
        "id": "sCezzD-pHeXQ",
        "colab_type": "code",
        "outputId": "96446369-9554-4bb5-8e59-007d8bd1795e",
        "colab": {
          "base_uri": "https://localhost:8080/",
          "height": 136
        }
      },
      "cell_type": "code",
      "source": [
        "s = pd.Series([1, 2, 3, 4], name='foo', index=pd.Index(['a', 'b', 'c', 'd'], name='idx'))\n",
        "print('原 Series')\n",
        "s"
      ],
      "execution_count": 8,
      "outputs": [
        {
          "output_type": "stream",
          "text": [
            "原 Series\n"
          ],
          "name": "stdout"
        },
        {
          "output_type": "execute_result",
          "data": {
            "text/plain": [
              "idx\n",
              "a    1\n",
              "b    2\n",
              "c    3\n",
              "d    4\n",
              "Name: foo, dtype: int64"
            ]
          },
          "metadata": {
            "tags": []
          },
          "execution_count": 8
        }
      ]
    },
    {
      "metadata": {
        "id": "pP5EzzBcKXvC",
        "colab_type": "code",
        "outputId": "66ece413-a928-4fd8-8dc6-86ddd7482757",
        "colab": {
          "base_uri": "https://localhost:8080/",
          "height": 190
        }
      },
      "cell_type": "code",
      "source": [
        "print('reset_index 后')\n",
        "s.reset_index()"
      ],
      "execution_count": 9,
      "outputs": [
        {
          "output_type": "stream",
          "text": [
            "reset_index 后\n"
          ],
          "name": "stdout"
        },
        {
          "output_type": "execute_result",
          "data": {
            "text/html": [
              "<div>\n",
              "<style scoped>\n",
              "    .dataframe tbody tr th:only-of-type {\n",
              "        vertical-align: middle;\n",
              "    }\n",
              "\n",
              "    .dataframe tbody tr th {\n",
              "        vertical-align: top;\n",
              "    }\n",
              "\n",
              "    .dataframe thead th {\n",
              "        text-align: right;\n",
              "    }\n",
              "</style>\n",
              "<table border=\"1\" class=\"dataframe\">\n",
              "  <thead>\n",
              "    <tr style=\"text-align: right;\">\n",
              "      <th></th>\n",
              "      <th>idx</th>\n",
              "      <th>foo</th>\n",
              "    </tr>\n",
              "  </thead>\n",
              "  <tbody>\n",
              "    <tr>\n",
              "      <th>0</th>\n",
              "      <td>a</td>\n",
              "      <td>1</td>\n",
              "    </tr>\n",
              "    <tr>\n",
              "      <th>1</th>\n",
              "      <td>b</td>\n",
              "      <td>2</td>\n",
              "    </tr>\n",
              "    <tr>\n",
              "      <th>2</th>\n",
              "      <td>c</td>\n",
              "      <td>3</td>\n",
              "    </tr>\n",
              "    <tr>\n",
              "      <th>3</th>\n",
              "      <td>d</td>\n",
              "      <td>4</td>\n",
              "    </tr>\n",
              "  </tbody>\n",
              "</table>\n",
              "</div>"
            ],
            "text/plain": [
              "  idx  foo\n",
              "0   a    1\n",
              "1   b    2\n",
              "2   c    3\n",
              "3   d    4"
            ]
          },
          "metadata": {
            "tags": []
          },
          "execution_count": 9
        }
      ]
    },
    {
      "metadata": {
        "id": "cmmwPz6EKUG-",
        "colab_type": "code",
        "outputId": "3dc7f020-3c16-49ac-82df-4bb4999e25d0",
        "colab": {
          "base_uri": "https://localhost:8080/",
          "height": 190
        }
      },
      "cell_type": "code",
      "source": [
        "print('reset_index 并改变原 column 的 name，注意：index 的 name 并不改变')\n",
        "s.reset_index(name = 'foo2')"
      ],
      "execution_count": 10,
      "outputs": [
        {
          "output_type": "stream",
          "text": [
            "reset_index 并改变原 column 的 name，注意：index 的 name 并不改变\n"
          ],
          "name": "stdout"
        },
        {
          "output_type": "execute_result",
          "data": {
            "text/html": [
              "<div>\n",
              "<style scoped>\n",
              "    .dataframe tbody tr th:only-of-type {\n",
              "        vertical-align: middle;\n",
              "    }\n",
              "\n",
              "    .dataframe tbody tr th {\n",
              "        vertical-align: top;\n",
              "    }\n",
              "\n",
              "    .dataframe thead th {\n",
              "        text-align: right;\n",
              "    }\n",
              "</style>\n",
              "<table border=\"1\" class=\"dataframe\">\n",
              "  <thead>\n",
              "    <tr style=\"text-align: right;\">\n",
              "      <th></th>\n",
              "      <th>idx</th>\n",
              "      <th>foo2</th>\n",
              "    </tr>\n",
              "  </thead>\n",
              "  <tbody>\n",
              "    <tr>\n",
              "      <th>0</th>\n",
              "      <td>a</td>\n",
              "      <td>1</td>\n",
              "    </tr>\n",
              "    <tr>\n",
              "      <th>1</th>\n",
              "      <td>b</td>\n",
              "      <td>2</td>\n",
              "    </tr>\n",
              "    <tr>\n",
              "      <th>2</th>\n",
              "      <td>c</td>\n",
              "      <td>3</td>\n",
              "    </tr>\n",
              "    <tr>\n",
              "      <th>3</th>\n",
              "      <td>d</td>\n",
              "      <td>4</td>\n",
              "    </tr>\n",
              "  </tbody>\n",
              "</table>\n",
              "</div>"
            ],
            "text/plain": [
              "  idx  foo2\n",
              "0   a     1\n",
              "1   b     2\n",
              "2   c     3\n",
              "3   d     4"
            ]
          },
          "metadata": {
            "tags": []
          },
          "execution_count": 10
        }
      ]
    },
    {
      "metadata": {
        "id": "nBF3F0JHXDv1",
        "colab_type": "text"
      },
      "cell_type": "markdown",
      "source": [
        "## 知识点：[accessors](http://pandas.pydata.org/pandas-docs/stable/reference/series.html#accessors)\n",
        "\n",
        "pandas 对于几种特定的数据类型，提供了配套的 accessor，可以非常方便地操作这几种类型的数据\n",
        "\n"
      ]
    },
    {
      "metadata": {
        "id": "Hx2h7cAEXx0Q",
        "colab_type": "text"
      },
      "cell_type": "markdown",
      "source": [
        "### Datetime, Timedelta, Period：dt\n"
      ]
    },
    {
      "metadata": {
        "id": "PwIsKdz-X308",
        "colab_type": "text"
      },
      "cell_type": "markdown",
      "source": [
        "### String：str\n"
      ]
    },
    {
      "metadata": {
        "id": "sUj988xVX6Jl",
        "colab_type": "text"
      },
      "cell_type": "markdown",
      "source": [
        "### Categorical：cat\n"
      ]
    },
    {
      "metadata": {
        "id": "FMYvm27PX8du",
        "colab_type": "text"
      },
      "cell_type": "markdown",
      "source": [
        "### Sparse：sparse"
      ]
    },
    {
      "metadata": {
        "id": "riy8J-s6RaNB",
        "colab_type": "text"
      },
      "cell_type": "markdown",
      "source": [
        "# DataFrame"
      ]
    },
    {
      "metadata": {
        "id": "mpIrorIMW6QB",
        "colab_type": "text"
      },
      "cell_type": "markdown",
      "source": [
        "## 主要属性\n",
        "\n",
        "* index：每一行有个唯一 id，index 是行 id 的集合\n",
        "* columns：列名的集合\n",
        "* dtypes：每个列的 dtype 的集合\n",
        "* values：底层的 ndarray，详见 [values、get_values() 与 array、to_numpy()](#scrollTo=HbGzBPre-sOL)\n",
        "\n",
        "来自 ndarray 的属性：\n",
        "\n",
        "* ndim：对于 DataFrame 来说，永远为 2\n",
        "* shape：对于 DataFrame 来说，永远为 (n_row, n_column)"
      ]
    },
    {
      "metadata": {
        "id": "WS5kQSlESWe-",
        "colab_type": "code",
        "outputId": "7d048910-d914-4c9c-ef98-8a2d43b53a3c",
        "colab": {
          "base_uri": "https://localhost:8080/",
          "height": 71
        }
      },
      "cell_type": "code",
      "source": [
        "data = pd.read_csv(config['data_file'])"
      ],
      "execution_count": 11,
      "outputs": [
        {
          "output_type": "stream",
          "text": [
            "/usr/local/lib/python3.6/dist-packages/IPython/core/interactiveshell.py:2718: DtypeWarning: Columns (14,15,16,19,20,22) have mixed types. Specify dtype option on import or set low_memory=False.\n",
            "  interactivity=interactivity, compiler=compiler, result=result)\n"
          ],
          "name": "stderr"
        }
      ]
    },
    {
      "metadata": {
        "id": "h819YoyNXqfu",
        "colab_type": "code",
        "outputId": "e83f08c6-639c-45e9-b1cd-3468586ff7aa",
        "colab": {
          "base_uri": "https://localhost:8080/",
          "height": 51
        }
      },
      "cell_type": "code",
      "source": [
        "print('type of DataFrame.index is:', type(data.index))\n",
        "data.index"
      ],
      "execution_count": 12,
      "outputs": [
        {
          "output_type": "stream",
          "text": [
            "type of DataFrame.index is: <class 'pandas.core.indexes.range.RangeIndex'>\n"
          ],
          "name": "stdout"
        },
        {
          "output_type": "execute_result",
          "data": {
            "text/plain": [
              "RangeIndex(start=0, stop=1175229, step=1)"
            ]
          },
          "metadata": {
            "tags": []
          },
          "execution_count": 12
        }
      ]
    },
    {
      "metadata": {
        "id": "YewOF3IMXsUC",
        "colab_type": "code",
        "outputId": "6166a331-1e08-42b3-d99d-e3000cca394c",
        "colab": {
          "base_uri": "https://localhost:8080/",
          "height": 153
        }
      },
      "cell_type": "code",
      "source": [
        "print('type of DataFrame.columns is:', type(data.columns))\n",
        "data.columns"
      ],
      "execution_count": 13,
      "outputs": [
        {
          "output_type": "stream",
          "text": [
            "type of DataFrame.columns is: <class 'pandas.core.indexes.base.Index'>\n"
          ],
          "name": "stdout"
        },
        {
          "output_type": "execute_result",
          "data": {
            "text/plain": [
              "Index(['raw_row_number', 'date', 'time', 'location', 'lat', 'lng',\n",
              "       'county_name', 'subject_age', 'subject_race', 'subject_sex',\n",
              "       'officer_id_hash', 'department_name', 'type', 'violation',\n",
              "       'arrest_made', 'citation_issued', 'warning_issued', 'outcome',\n",
              "       'contraband_found', 'search_conducted', 'search_vehicle',\n",
              "       'search_basis', 'reason_for_stop'],\n",
              "      dtype='object')"
            ]
          },
          "metadata": {
            "tags": []
          },
          "execution_count": 13
        }
      ]
    },
    {
      "metadata": {
        "id": "kUw4NSpQa_Q4",
        "colab_type": "text"
      },
      "cell_type": "markdown",
      "source": [
        "### 属性 index 与类型 index\n",
        "\n",
        "从这里可以看出，DataFrame 的两个属性 index 和 columns 其类型都是 type_index（为了与属性名进行区分，类型名额外增加了 type_ 前缀）\n",
        "\n",
        "那类型 index 是什么呢？见[下文](#scrollTo=drsywz6tK-8k)"
      ]
    },
    {
      "metadata": {
        "id": "9ms5rH84XutK",
        "colab_type": "code",
        "outputId": "b32f1ab8-1d5c-403e-bbe1-d49ffaddc705",
        "colab": {
          "base_uri": "https://localhost:8080/",
          "height": 442
        }
      },
      "cell_type": "code",
      "source": [
        "print('type of DataFrame.dtypes is:', type(data.dtypes))\n",
        "data.dtypes"
      ],
      "execution_count": 14,
      "outputs": [
        {
          "output_type": "stream",
          "text": [
            "type of DataFrame.dtypes is: <class 'pandas.core.series.Series'>\n"
          ],
          "name": "stdout"
        },
        {
          "output_type": "execute_result",
          "data": {
            "text/plain": [
              "raw_row_number       object\n",
              "date                 object\n",
              "time                 object\n",
              "location             object\n",
              "lat                 float64\n",
              "lng                 float64\n",
              "county_name          object\n",
              "subject_age         float64\n",
              "subject_race         object\n",
              "subject_sex          object\n",
              "officer_id_hash      object\n",
              "department_name      object\n",
              "type                 object\n",
              "violation            object\n",
              "arrest_made          object\n",
              "citation_issued      object\n",
              "warning_issued       object\n",
              "outcome              object\n",
              "contraband_found     object\n",
              "search_conducted     object\n",
              "search_vehicle       object\n",
              "search_basis         object\n",
              "reason_for_stop      object\n",
              "dtype: object"
            ]
          },
          "metadata": {
            "tags": []
          },
          "execution_count": 14
        }
      ]
    },
    {
      "metadata": {
        "id": "vAbwT1JEcfTl",
        "colab_type": "code",
        "outputId": "7bbca87e-5443-4ec1-e76d-be22a45aecf1",
        "colab": {
          "base_uri": "https://localhost:8080/",
          "height": 136
        }
      },
      "cell_type": "code",
      "source": [
        "data.dtypes.index"
      ],
      "execution_count": 15,
      "outputs": [
        {
          "output_type": "execute_result",
          "data": {
            "text/plain": [
              "Index(['raw_row_number', 'date', 'time', 'location', 'lat', 'lng',\n",
              "       'county_name', 'subject_age', 'subject_race', 'subject_sex',\n",
              "       'officer_id_hash', 'department_name', 'type', 'violation',\n",
              "       'arrest_made', 'citation_issued', 'warning_issued', 'outcome',\n",
              "       'contraband_found', 'search_conducted', 'search_vehicle',\n",
              "       'search_basis', 'reason_for_stop'],\n",
              "      dtype='object')"
            ]
          },
          "metadata": {
            "tags": []
          },
          "execution_count": 15
        }
      ]
    },
    {
      "metadata": {
        "id": "1uAzwRm1ckL4",
        "colab_type": "code",
        "outputId": "b7e1269c-0a95-437c-dd1f-b93746f78815",
        "colab": {
          "base_uri": "https://localhost:8080/",
          "height": 34
        }
      },
      "cell_type": "code",
      "source": [
        "data.dtypes.dtype"
      ],
      "execution_count": 16,
      "outputs": [
        {
          "output_type": "execute_result",
          "data": {
            "text/plain": [
              "dtype('O')"
            ]
          },
          "metadata": {
            "tags": []
          },
          "execution_count": 16
        }
      ]
    },
    {
      "metadata": {
        "id": "Dj08ccFwc3S0",
        "colab_type": "text"
      },
      "cell_type": "markdown",
      "source": [
        "### 属性 dtypes 的类型是 Series\n",
        "\n",
        "DataFrame.dtypes 是一个以 list of str 为 index 的 Series"
      ]
    },
    {
      "metadata": {
        "id": "bk4v1qjKHlho",
        "colab_type": "code",
        "outputId": "117ebd37-ee0d-446c-f964-47b7d245a0ae",
        "colab": {
          "base_uri": "https://localhost:8080/",
          "height": 493
        }
      },
      "cell_type": "code",
      "source": [
        "# info 函数可以方便的查看 DataFrame 的重要属性\n",
        "data.info()"
      ],
      "execution_count": 17,
      "outputs": [
        {
          "output_type": "stream",
          "text": [
            "<class 'pandas.core.frame.DataFrame'>\n",
            "RangeIndex: 1175229 entries, 0 to 1175228\n",
            "Data columns (total 23 columns):\n",
            "raw_row_number      1175229 non-null object\n",
            "date                1175229 non-null object\n",
            "time                1175229 non-null object\n",
            "location            1175229 non-null object\n",
            "lat                 252310 non-null float64\n",
            "lng                 252310 non-null float64\n",
            "county_name         1174743 non-null object\n",
            "subject_age         1171196 non-null float64\n",
            "subject_race        1175229 non-null object\n",
            "subject_sex         1175229 non-null object\n",
            "officer_id_hash     1045867 non-null object\n",
            "department_name     1175229 non-null object\n",
            "type                1153793 non-null object\n",
            "violation           1173914 non-null object\n",
            "arrest_made         1175225 non-null object\n",
            "citation_issued     1175227 non-null object\n",
            "warning_issued      1175227 non-null object\n",
            "outcome             1156595 non-null object\n",
            "contraband_found    45993 non-null object\n",
            "search_conducted    1175224 non-null object\n",
            "search_vehicle      1175224 non-null object\n",
            "search_basis        43675 non-null object\n",
            "reason_for_stop     592905 non-null object\n",
            "dtypes: float64(3), object(20)\n",
            "memory usage: 206.2+ MB\n"
          ],
          "name": "stdout"
        }
      ]
    },
    {
      "metadata": {
        "id": "drsywz6tK-8k",
        "colab_type": "text"
      },
      "cell_type": "markdown",
      "source": [
        "# Index\n",
        "\n",
        "在 pandas 中，类型 index 的官方定义是：\n",
        "\n",
        "```\n",
        "Immutable ndarray implementing an ordered, sliceable set.\n",
        "```\n",
        "即类型 index 是一个不可变的、由 ndarray 实现的、有序的、支持切片操作的**集合**\n",
        "\n",
        "Series.index、DataFrame.index、DataFrame.columns 都是某种集合，在 pandas 中均是 index 类型的实例"
      ]
    },
    {
      "metadata": {
        "id": "QNQRhJmbecgi",
        "colab_type": "text"
      },
      "cell_type": "markdown",
      "source": [
        "## 主要属性\n",
        "\n",
        "* name\n",
        "* values：底层的 ndarray，详见 [values、get_values() 与 array、to_numpy()](#scrollTo=HbGzBPre-sOL)\n",
        "\n",
        "来自 ndarray 的属性：\n",
        "\n",
        "* ndim\n",
        "* shape\n",
        "* dtype"
      ]
    },
    {
      "metadata": {
        "id": "MHwxL43Hg64s",
        "colab_type": "text"
      },
      "cell_type": "markdown",
      "source": [
        "## 派生类型\n",
        "\n",
        "* Numeric Index\n",
        "  * RangeIndex：pandas 的默认 index 类型\n",
        "  * Int64Index\n",
        "  * UInt64Index\n",
        "  * Float64Index\n",
        "* CategoricalIndex\n",
        "* IntervalIndex\n",
        "* MultiIndex\n",
        "* DatetimeIndex\n",
        "* TimedeltaIndex\n",
        "* PeriodIndex"
      ]
    },
    {
      "metadata": {
        "id": "AmEJ2uk4cR3u",
        "colab_type": "text"
      },
      "cell_type": "markdown",
      "source": [
        "# Function Application\n",
        "\n",
        "Function Application 模仿函数式语言中的 apply 功能，通过将 DataFrame 的整体或相应的局部作为参数传递给纯函数（无副作用）的方式，对 DataFrame 进行灵活的数据加工与处理\n",
        "\n",
        "pandas 支持三种数据范围的 apply 功能\n",
        "\n",
        "* Tablewise：将整个 DataFrame 作为参数\n",
        "* Row or Column-wise：将 DataFrame 的一行或一列以 Series 的形式作为参数\n",
        "* Elementwise：将 DataFrame 中的每个值作为参数"
      ]
    },
    {
      "metadata": {
        "id": "Tx0iYuZ8joTy",
        "colab_type": "text"
      },
      "cell_type": "markdown",
      "source": [
        "## Tablewise：pipe()\n",
        "\n",
        "\n",
        "\n",
        "```\n",
        "# f, g, and h are functions taking and returning ``DataFrames``\n",
        ">>> f(g(h(df), arg1=1), arg2=2, arg3=3)\n",
        "```\n",
        "等价于\n",
        "\n",
        "```\n",
        ">>> (df.pipe(h)\n",
        "...    .pipe(g, arg1=1)\n",
        "...    .pipe(f, arg2=2, arg3=3))\n",
        "```\n",
        "\n"
      ]
    },
    {
      "metadata": {
        "id": "LKYQA5cjjr08",
        "colab_type": "text"
      },
      "cell_type": "markdown",
      "source": [
        "## Row or Column-wise：apply()\n",
        "\n",
        "apply() 函数通过 axis 参数决定是 row-wise 还是 column-wise\n",
        "\n",
        "* 【默认】axis = 0 或 'index'，column-wise，将 DataFrame 中的每个 column 作为 Series 传给 applied function，结果的 index = DataFrame.columns\n",
        "* axis = 1 或 'columns'，row-wise，将 DataFrame 中的每个 row 作为 Series 传给 applied function，结果的 index = DataFrame.index\n",
        "\n",
        "applied function 均以 Series 作为参数，可以返回 Series 或任意其他类型\n",
        "\n",
        "* 当返回 Series 时，apply 的返回结果类型为 DataFrame\n",
        "* 当返回任意其他类型时，apply 的返回结果类型为 Series"
      ]
    },
    {
      "metadata": {
        "id": "VTifW9Gzsd5C",
        "colab_type": "code",
        "outputId": "d6eef7cf-65df-48d9-9b44-1e6e9dcf4184",
        "colab": {
          "base_uri": "https://localhost:8080/",
          "height": 204
        }
      },
      "cell_type": "code",
      "source": [
        "df = pd.DataFrame(np.random.randn(5, 2), columns = ['A', 'B'])\n",
        "df"
      ],
      "execution_count": 18,
      "outputs": [
        {
          "output_type": "execute_result",
          "data": {
            "text/html": [
              "<div>\n",
              "<style scoped>\n",
              "    .dataframe tbody tr th:only-of-type {\n",
              "        vertical-align: middle;\n",
              "    }\n",
              "\n",
              "    .dataframe tbody tr th {\n",
              "        vertical-align: top;\n",
              "    }\n",
              "\n",
              "    .dataframe thead th {\n",
              "        text-align: right;\n",
              "    }\n",
              "</style>\n",
              "<table border=\"1\" class=\"dataframe\">\n",
              "  <thead>\n",
              "    <tr style=\"text-align: right;\">\n",
              "      <th></th>\n",
              "      <th>A</th>\n",
              "      <th>B</th>\n",
              "    </tr>\n",
              "  </thead>\n",
              "  <tbody>\n",
              "    <tr>\n",
              "      <th>0</th>\n",
              "      <td>-0.714037</td>\n",
              "      <td>0.985196</td>\n",
              "    </tr>\n",
              "    <tr>\n",
              "      <th>1</th>\n",
              "      <td>-0.373514</td>\n",
              "      <td>-0.473069</td>\n",
              "    </tr>\n",
              "    <tr>\n",
              "      <th>2</th>\n",
              "      <td>1.623963</td>\n",
              "      <td>-1.026008</td>\n",
              "    </tr>\n",
              "    <tr>\n",
              "      <th>3</th>\n",
              "      <td>0.172279</td>\n",
              "      <td>1.332424</td>\n",
              "    </tr>\n",
              "    <tr>\n",
              "      <th>4</th>\n",
              "      <td>-1.381293</td>\n",
              "      <td>-0.773336</td>\n",
              "    </tr>\n",
              "  </tbody>\n",
              "</table>\n",
              "</div>"
            ],
            "text/plain": [
              "          A         B\n",
              "0 -0.714037  0.985196\n",
              "1 -0.373514 -0.473069\n",
              "2  1.623963 -1.026008\n",
              "3  0.172279  1.332424\n",
              "4 -1.381293 -0.773336"
            ]
          },
          "metadata": {
            "tags": []
          },
          "execution_count": 18
        }
      ]
    },
    {
      "metadata": {
        "id": "_b4WSkHqQRFH",
        "colab_type": "code",
        "outputId": "4cd11c11-df19-429a-f66c-b010c0bdeb80",
        "colab": {
          "base_uri": "https://localhost:8080/",
          "height": 68
        }
      },
      "cell_type": "code",
      "source": [
        "# column-wise\n",
        "df.apply(lambda x: type(x))"
      ],
      "execution_count": 19,
      "outputs": [
        {
          "output_type": "execute_result",
          "data": {
            "text/plain": [
              "A    <class 'pandas.core.series.Series'>\n",
              "B    <class 'pandas.core.series.Series'>\n",
              "dtype: object"
            ]
          },
          "metadata": {
            "tags": []
          },
          "execution_count": 19
        }
      ]
    },
    {
      "metadata": {
        "id": "dLO1At5CsvSD",
        "colab_type": "code",
        "outputId": "8969c503-7dd8-41ed-9270-aa1bc34cfa41",
        "colab": {
          "base_uri": "https://localhost:8080/",
          "height": 119
        }
      },
      "cell_type": "code",
      "source": [
        "# row-wise\n",
        "df.apply(lambda x: type(x), axis=1)"
      ],
      "execution_count": 20,
      "outputs": [
        {
          "output_type": "execute_result",
          "data": {
            "text/plain": [
              "0    <class 'pandas.core.series.Series'>\n",
              "1    <class 'pandas.core.series.Series'>\n",
              "2    <class 'pandas.core.series.Series'>\n",
              "3    <class 'pandas.core.series.Series'>\n",
              "4    <class 'pandas.core.series.Series'>\n",
              "dtype: object"
            ]
          },
          "metadata": {
            "tags": []
          },
          "execution_count": 20
        }
      ]
    },
    {
      "metadata": {
        "id": "LbsrsPziUjnx",
        "colab_type": "code",
        "outputId": "a40a3d4f-4392-4602-a174-119518fefd4b",
        "colab": {
          "base_uri": "https://localhost:8080/",
          "height": 204
        }
      },
      "cell_type": "code",
      "source": [
        "# columns-wise & 返回 Sereis\n",
        "df.apply(np.cumsum)"
      ],
      "execution_count": 21,
      "outputs": [
        {
          "output_type": "execute_result",
          "data": {
            "text/html": [
              "<div>\n",
              "<style scoped>\n",
              "    .dataframe tbody tr th:only-of-type {\n",
              "        vertical-align: middle;\n",
              "    }\n",
              "\n",
              "    .dataframe tbody tr th {\n",
              "        vertical-align: top;\n",
              "    }\n",
              "\n",
              "    .dataframe thead th {\n",
              "        text-align: right;\n",
              "    }\n",
              "</style>\n",
              "<table border=\"1\" class=\"dataframe\">\n",
              "  <thead>\n",
              "    <tr style=\"text-align: right;\">\n",
              "      <th></th>\n",
              "      <th>A</th>\n",
              "      <th>B</th>\n",
              "    </tr>\n",
              "  </thead>\n",
              "  <tbody>\n",
              "    <tr>\n",
              "      <th>0</th>\n",
              "      <td>-0.714037</td>\n",
              "      <td>0.985196</td>\n",
              "    </tr>\n",
              "    <tr>\n",
              "      <th>1</th>\n",
              "      <td>-1.087551</td>\n",
              "      <td>0.512127</td>\n",
              "    </tr>\n",
              "    <tr>\n",
              "      <th>2</th>\n",
              "      <td>0.536412</td>\n",
              "      <td>-0.513881</td>\n",
              "    </tr>\n",
              "    <tr>\n",
              "      <th>3</th>\n",
              "      <td>0.708691</td>\n",
              "      <td>0.818542</td>\n",
              "    </tr>\n",
              "    <tr>\n",
              "      <th>4</th>\n",
              "      <td>-0.672601</td>\n",
              "      <td>0.045206</td>\n",
              "    </tr>\n",
              "  </tbody>\n",
              "</table>\n",
              "</div>"
            ],
            "text/plain": [
              "          A         B\n",
              "0 -0.714037  0.985196\n",
              "1 -1.087551  0.512127\n",
              "2  0.536412 -0.513881\n",
              "3  0.708691  0.818542\n",
              "4 -0.672601  0.045206"
            ]
          },
          "metadata": {
            "tags": []
          },
          "execution_count": 21
        }
      ]
    },
    {
      "metadata": {
        "id": "EtMmP1_DW8V5",
        "colab_type": "text"
      },
      "cell_type": "markdown",
      "source": [
        "### agg()：一个 Series，多个聚合操作\n",
        "\n",
        "**apply 的限制：针对一个 Series，只能表达一个聚合操作**\n",
        "\n",
        "agg 就是为了解决如上限制"
      ]
    },
    {
      "metadata": {
        "id": "mYrdWy3GY4CL",
        "colab_type": "code",
        "outputId": "73c883f3-e7c5-46fb-fa13-71e2479f829f",
        "colab": {
          "base_uri": "https://localhost:8080/",
          "height": 235
        }
      },
      "cell_type": "code",
      "source": [
        "df.agg(['cumsum'])"
      ],
      "execution_count": 22,
      "outputs": [
        {
          "output_type": "execute_result",
          "data": {
            "text/html": [
              "<div>\n",
              "<style scoped>\n",
              "    .dataframe tbody tr th:only-of-type {\n",
              "        vertical-align: middle;\n",
              "    }\n",
              "\n",
              "    .dataframe tbody tr th {\n",
              "        vertical-align: top;\n",
              "    }\n",
              "\n",
              "    .dataframe thead tr th {\n",
              "        text-align: left;\n",
              "    }\n",
              "</style>\n",
              "<table border=\"1\" class=\"dataframe\">\n",
              "  <thead>\n",
              "    <tr>\n",
              "      <th></th>\n",
              "      <th>A</th>\n",
              "      <th>B</th>\n",
              "    </tr>\n",
              "    <tr>\n",
              "      <th></th>\n",
              "      <th>cumsum</th>\n",
              "      <th>cumsum</th>\n",
              "    </tr>\n",
              "  </thead>\n",
              "  <tbody>\n",
              "    <tr>\n",
              "      <th>0</th>\n",
              "      <td>-0.714037</td>\n",
              "      <td>0.985196</td>\n",
              "    </tr>\n",
              "    <tr>\n",
              "      <th>1</th>\n",
              "      <td>-1.087551</td>\n",
              "      <td>0.512127</td>\n",
              "    </tr>\n",
              "    <tr>\n",
              "      <th>2</th>\n",
              "      <td>0.536412</td>\n",
              "      <td>-0.513881</td>\n",
              "    </tr>\n",
              "    <tr>\n",
              "      <th>3</th>\n",
              "      <td>0.708691</td>\n",
              "      <td>0.818542</td>\n",
              "    </tr>\n",
              "    <tr>\n",
              "      <th>4</th>\n",
              "      <td>-0.672601</td>\n",
              "      <td>0.045206</td>\n",
              "    </tr>\n",
              "  </tbody>\n",
              "</table>\n",
              "</div>"
            ],
            "text/plain": [
              "          A         B\n",
              "     cumsum    cumsum\n",
              "0 -0.714037  0.985196\n",
              "1 -1.087551  0.512127\n",
              "2  0.536412 -0.513881\n",
              "3  0.708691  0.818542\n",
              "4 -0.672601  0.045206"
            ]
          },
          "metadata": {
            "tags": []
          },
          "execution_count": 22
        }
      ]
    },
    {
      "metadata": {
        "id": "ix1BWaNvkpED",
        "colab_type": "text"
      },
      "cell_type": "markdown",
      "source": [
        "## Elementwise：DataFrame.apply() 和 Series.map()\n",
        "\n",
        "* DataFrame.applymap()\n",
        "* Series.map() *或 Series.apply()*  \n",
        "吐槽：pandas 的 API 设计一致性不好，同样是 apply()，就因为数据类型不同，表现就不同，DataFrame.apply() 是 row or columns-wise，Series.apply() 是 elementwise。**为了代码的可读性与一致性，不推荐使用 Series.apply()**\n",
        "\n",
        "二者的 applied function 都是以单个值作为参数，并返回单个值"
      ]
    },
    {
      "metadata": {
        "id": "wZiZCNKDsupG",
        "colab_type": "code",
        "outputId": "0e8e5129-0b17-4f01-e3b6-9a9cb8bf1cf9",
        "colab": {
          "base_uri": "https://localhost:8080/",
          "height": 204
        }
      },
      "cell_type": "code",
      "source": [
        "df.applymap(lambda x: -x)"
      ],
      "execution_count": 23,
      "outputs": [
        {
          "output_type": "execute_result",
          "data": {
            "text/html": [
              "<div>\n",
              "<style scoped>\n",
              "    .dataframe tbody tr th:only-of-type {\n",
              "        vertical-align: middle;\n",
              "    }\n",
              "\n",
              "    .dataframe tbody tr th {\n",
              "        vertical-align: top;\n",
              "    }\n",
              "\n",
              "    .dataframe thead th {\n",
              "        text-align: right;\n",
              "    }\n",
              "</style>\n",
              "<table border=\"1\" class=\"dataframe\">\n",
              "  <thead>\n",
              "    <tr style=\"text-align: right;\">\n",
              "      <th></th>\n",
              "      <th>A</th>\n",
              "      <th>B</th>\n",
              "    </tr>\n",
              "  </thead>\n",
              "  <tbody>\n",
              "    <tr>\n",
              "      <th>0</th>\n",
              "      <td>0.714037</td>\n",
              "      <td>-0.985196</td>\n",
              "    </tr>\n",
              "    <tr>\n",
              "      <th>1</th>\n",
              "      <td>0.373514</td>\n",
              "      <td>0.473069</td>\n",
              "    </tr>\n",
              "    <tr>\n",
              "      <th>2</th>\n",
              "      <td>-1.623963</td>\n",
              "      <td>1.026008</td>\n",
              "    </tr>\n",
              "    <tr>\n",
              "      <th>3</th>\n",
              "      <td>-0.172279</td>\n",
              "      <td>-1.332424</td>\n",
              "    </tr>\n",
              "    <tr>\n",
              "      <th>4</th>\n",
              "      <td>1.381293</td>\n",
              "      <td>0.773336</td>\n",
              "    </tr>\n",
              "  </tbody>\n",
              "</table>\n",
              "</div>"
            ],
            "text/plain": [
              "          A         B\n",
              "0  0.714037 -0.985196\n",
              "1  0.373514  0.473069\n",
              "2 -1.623963  1.026008\n",
              "3 -0.172279 -1.332424\n",
              "4  1.381293  0.773336"
            ]
          },
          "metadata": {
            "tags": []
          },
          "execution_count": 23
        }
      ]
    },
    {
      "metadata": {
        "id": "xTuV9FduVK0U",
        "colab_type": "code",
        "outputId": "0b408377-45df-4b24-eecd-b755b5e91aa2",
        "colab": {
          "base_uri": "https://localhost:8080/",
          "height": 119
        }
      },
      "cell_type": "code",
      "source": [
        "df['A'].map(lambda x: -x)"
      ],
      "execution_count": 24,
      "outputs": [
        {
          "output_type": "execute_result",
          "data": {
            "text/plain": [
              "0    0.714037\n",
              "1    0.373514\n",
              "2   -1.623963\n",
              "3   -0.172279\n",
              "4    1.381293\n",
              "Name: A, dtype: float64"
            ]
          },
          "metadata": {
            "tags": []
          },
          "execution_count": 24
        }
      ]
    },
    {
      "metadata": {
        "id": "_hxhlogsaITr",
        "colab_type": "text"
      },
      "cell_type": "markdown",
      "source": [
        "#### transform()：一个 value，多个转换操作"
      ]
    },
    {
      "metadata": {
        "id": "E1WLOeRTlJyc",
        "colab_type": "text"
      },
      "cell_type": "markdown",
      "source": [
        "# Indexing/Selection\n",
        "\n",
        "* Series\n",
        "  * s\\[indexer]\n",
        "  * s.loc\\[indexer]，label-based indexer\n",
        "  * s.iloc\\[indexer]，integer-based indexer\n",
        "* DataFrame\n",
        "  * df\\[row_indexer or column_indexer]，**不推荐使用**，语义模糊，易产生歧义\n",
        "  * df.loc\\[row_indexer, col_indexer]，label-based indexer\n",
        "  * df.iloc\\[row_indexer, col_indexer]，integer-based indexer\n"
      ]
    },
    {
      "metadata": {
        "id": "3ufzyuy3cocJ",
        "colab_type": "text"
      },
      "cell_type": "markdown",
      "source": [
        "## 尽量少用 \\[] indexer\n",
        "\n",
        "df\\[row_indexer or column_indexer]\n",
        "\n",
        "**不推荐使用**，语义模糊，易产生歧义\n",
        "\n",
        "    * 当 indexer 是 a slice of ints 时，作为 row_indexer\n",
        "    * 当 indexer 是 a single label 时（label 类型还不能是 int），作为 column_indexer\n",
        "    * 当 indexer 是 an array of label 时，作为 column_indexer"
      ]
    },
    {
      "metadata": {
        "id": "zsouc_qraKwf",
        "colab_type": "code",
        "outputId": "d3ee2c5d-40db-4a57-a60c-f89a266b59f6",
        "colab": {
          "base_uri": "https://localhost:8080/",
          "height": 111
        }
      },
      "cell_type": "code",
      "source": [
        "# 作为 row_indexer\n",
        "df[2:4]"
      ],
      "execution_count": 25,
      "outputs": [
        {
          "output_type": "execute_result",
          "data": {
            "text/html": [
              "<div>\n",
              "<style scoped>\n",
              "    .dataframe tbody tr th:only-of-type {\n",
              "        vertical-align: middle;\n",
              "    }\n",
              "\n",
              "    .dataframe tbody tr th {\n",
              "        vertical-align: top;\n",
              "    }\n",
              "\n",
              "    .dataframe thead th {\n",
              "        text-align: right;\n",
              "    }\n",
              "</style>\n",
              "<table border=\"1\" class=\"dataframe\">\n",
              "  <thead>\n",
              "    <tr style=\"text-align: right;\">\n",
              "      <th></th>\n",
              "      <th>A</th>\n",
              "      <th>B</th>\n",
              "    </tr>\n",
              "  </thead>\n",
              "  <tbody>\n",
              "    <tr>\n",
              "      <th>2</th>\n",
              "      <td>1.623963</td>\n",
              "      <td>-1.026008</td>\n",
              "    </tr>\n",
              "    <tr>\n",
              "      <th>3</th>\n",
              "      <td>0.172279</td>\n",
              "      <td>1.332424</td>\n",
              "    </tr>\n",
              "  </tbody>\n",
              "</table>\n",
              "</div>"
            ],
            "text/plain": [
              "          A         B\n",
              "2  1.623963 -1.026008\n",
              "3  0.172279  1.332424"
            ]
          },
          "metadata": {
            "tags": []
          },
          "execution_count": 25
        }
      ]
    },
    {
      "metadata": {
        "id": "GXBBFglpbkCE",
        "colab_type": "code",
        "outputId": "17f4eda0-129d-4b29-c1db-47ccc801a1eb",
        "colab": {
          "base_uri": "https://localhost:8080/",
          "height": 1202
        }
      },
      "cell_type": "code",
      "source": [
        "# a single int 时，还不能作为 row_indexer\n",
        "df[1]"
      ],
      "execution_count": 26,
      "outputs": [
        {
          "output_type": "error",
          "ename": "KeyError",
          "evalue": "ignored",
          "traceback": [
            "\u001b[0;31m---------------------------------------------------------------------------\u001b[0m",
            "\u001b[0;31mKeyError\u001b[0m                                  Traceback (most recent call last)",
            "\u001b[0;32m/usr/local/lib/python3.6/dist-packages/pandas/core/indexes/base.py\u001b[0m in \u001b[0;36mget_loc\u001b[0;34m(self, key, method, tolerance)\u001b[0m\n\u001b[1;32m   2524\u001b[0m             \u001b[0;32mtry\u001b[0m\u001b[0;34m:\u001b[0m\u001b[0;34m\u001b[0m\u001b[0;34m\u001b[0m\u001b[0m\n\u001b[0;32m-> 2525\u001b[0;31m                 \u001b[0;32mreturn\u001b[0m \u001b[0mself\u001b[0m\u001b[0;34m.\u001b[0m\u001b[0m_engine\u001b[0m\u001b[0;34m.\u001b[0m\u001b[0mget_loc\u001b[0m\u001b[0;34m(\u001b[0m\u001b[0mkey\u001b[0m\u001b[0;34m)\u001b[0m\u001b[0;34m\u001b[0m\u001b[0;34m\u001b[0m\u001b[0m\n\u001b[0m\u001b[1;32m   2526\u001b[0m             \u001b[0;32mexcept\u001b[0m \u001b[0mKeyError\u001b[0m\u001b[0;34m:\u001b[0m\u001b[0;34m\u001b[0m\u001b[0;34m\u001b[0m\u001b[0m\n",
            "\u001b[0;32mpandas/_libs/index.pyx\u001b[0m in \u001b[0;36mpandas._libs.index.IndexEngine.get_loc\u001b[0;34m()\u001b[0m\n",
            "\u001b[0;32mpandas/_libs/index.pyx\u001b[0m in \u001b[0;36mpandas._libs.index.IndexEngine.get_loc\u001b[0;34m()\u001b[0m\n",
            "\u001b[0;32mpandas/_libs/hashtable_class_helper.pxi\u001b[0m in \u001b[0;36mpandas._libs.hashtable.PyObjectHashTable.get_item\u001b[0;34m()\u001b[0m\n",
            "\u001b[0;32mpandas/_libs/hashtable_class_helper.pxi\u001b[0m in \u001b[0;36mpandas._libs.hashtable.PyObjectHashTable.get_item\u001b[0;34m()\u001b[0m\n",
            "\u001b[0;31mKeyError\u001b[0m: 1",
            "\nDuring handling of the above exception, another exception occurred:\n",
            "\u001b[0;31mKeyError\u001b[0m                                  Traceback (most recent call last)",
            "\u001b[0;32m<ipython-input-26-78a33f69c558>\u001b[0m in \u001b[0;36m<module>\u001b[0;34m()\u001b[0m\n\u001b[0;32m----> 1\u001b[0;31m \u001b[0mdf\u001b[0m\u001b[0;34m[\u001b[0m\u001b[0;36m1\u001b[0m\u001b[0;34m]\u001b[0m\u001b[0;34m\u001b[0m\u001b[0;34m\u001b[0m\u001b[0m\n\u001b[0m",
            "\u001b[0;32m/usr/local/lib/python3.6/dist-packages/pandas/core/frame.py\u001b[0m in \u001b[0;36m__getitem__\u001b[0;34m(self, key)\u001b[0m\n\u001b[1;32m   2137\u001b[0m             \u001b[0;32mreturn\u001b[0m \u001b[0mself\u001b[0m\u001b[0;34m.\u001b[0m\u001b[0m_getitem_multilevel\u001b[0m\u001b[0;34m(\u001b[0m\u001b[0mkey\u001b[0m\u001b[0;34m)\u001b[0m\u001b[0;34m\u001b[0m\u001b[0;34m\u001b[0m\u001b[0m\n\u001b[1;32m   2138\u001b[0m         \u001b[0;32melse\u001b[0m\u001b[0;34m:\u001b[0m\u001b[0;34m\u001b[0m\u001b[0;34m\u001b[0m\u001b[0m\n\u001b[0;32m-> 2139\u001b[0;31m             \u001b[0;32mreturn\u001b[0m \u001b[0mself\u001b[0m\u001b[0;34m.\u001b[0m\u001b[0m_getitem_column\u001b[0m\u001b[0;34m(\u001b[0m\u001b[0mkey\u001b[0m\u001b[0;34m)\u001b[0m\u001b[0;34m\u001b[0m\u001b[0;34m\u001b[0m\u001b[0m\n\u001b[0m\u001b[1;32m   2140\u001b[0m \u001b[0;34m\u001b[0m\u001b[0m\n\u001b[1;32m   2141\u001b[0m     \u001b[0;32mdef\u001b[0m \u001b[0m_getitem_column\u001b[0m\u001b[0;34m(\u001b[0m\u001b[0mself\u001b[0m\u001b[0;34m,\u001b[0m \u001b[0mkey\u001b[0m\u001b[0;34m)\u001b[0m\u001b[0;34m:\u001b[0m\u001b[0;34m\u001b[0m\u001b[0;34m\u001b[0m\u001b[0m\n",
            "\u001b[0;32m/usr/local/lib/python3.6/dist-packages/pandas/core/frame.py\u001b[0m in \u001b[0;36m_getitem_column\u001b[0;34m(self, key)\u001b[0m\n\u001b[1;32m   2144\u001b[0m         \u001b[0;31m# get column\u001b[0m\u001b[0;34m\u001b[0m\u001b[0;34m\u001b[0m\u001b[0;34m\u001b[0m\u001b[0m\n\u001b[1;32m   2145\u001b[0m         \u001b[0;32mif\u001b[0m \u001b[0mself\u001b[0m\u001b[0;34m.\u001b[0m\u001b[0mcolumns\u001b[0m\u001b[0;34m.\u001b[0m\u001b[0mis_unique\u001b[0m\u001b[0;34m:\u001b[0m\u001b[0;34m\u001b[0m\u001b[0;34m\u001b[0m\u001b[0m\n\u001b[0;32m-> 2146\u001b[0;31m             \u001b[0;32mreturn\u001b[0m \u001b[0mself\u001b[0m\u001b[0;34m.\u001b[0m\u001b[0m_get_item_cache\u001b[0m\u001b[0;34m(\u001b[0m\u001b[0mkey\u001b[0m\u001b[0;34m)\u001b[0m\u001b[0;34m\u001b[0m\u001b[0;34m\u001b[0m\u001b[0m\n\u001b[0m\u001b[1;32m   2147\u001b[0m \u001b[0;34m\u001b[0m\u001b[0m\n\u001b[1;32m   2148\u001b[0m         \u001b[0;31m# duplicate columns & possible reduce dimensionality\u001b[0m\u001b[0;34m\u001b[0m\u001b[0;34m\u001b[0m\u001b[0;34m\u001b[0m\u001b[0m\n",
            "\u001b[0;32m/usr/local/lib/python3.6/dist-packages/pandas/core/generic.py\u001b[0m in \u001b[0;36m_get_item_cache\u001b[0;34m(self, item)\u001b[0m\n\u001b[1;32m   1840\u001b[0m         \u001b[0mres\u001b[0m \u001b[0;34m=\u001b[0m \u001b[0mcache\u001b[0m\u001b[0;34m.\u001b[0m\u001b[0mget\u001b[0m\u001b[0;34m(\u001b[0m\u001b[0mitem\u001b[0m\u001b[0;34m)\u001b[0m\u001b[0;34m\u001b[0m\u001b[0;34m\u001b[0m\u001b[0m\n\u001b[1;32m   1841\u001b[0m         \u001b[0;32mif\u001b[0m \u001b[0mres\u001b[0m \u001b[0;32mis\u001b[0m \u001b[0;32mNone\u001b[0m\u001b[0;34m:\u001b[0m\u001b[0;34m\u001b[0m\u001b[0;34m\u001b[0m\u001b[0m\n\u001b[0;32m-> 1842\u001b[0;31m             \u001b[0mvalues\u001b[0m \u001b[0;34m=\u001b[0m \u001b[0mself\u001b[0m\u001b[0;34m.\u001b[0m\u001b[0m_data\u001b[0m\u001b[0;34m.\u001b[0m\u001b[0mget\u001b[0m\u001b[0;34m(\u001b[0m\u001b[0mitem\u001b[0m\u001b[0;34m)\u001b[0m\u001b[0;34m\u001b[0m\u001b[0;34m\u001b[0m\u001b[0m\n\u001b[0m\u001b[1;32m   1843\u001b[0m             \u001b[0mres\u001b[0m \u001b[0;34m=\u001b[0m \u001b[0mself\u001b[0m\u001b[0;34m.\u001b[0m\u001b[0m_box_item_values\u001b[0m\u001b[0;34m(\u001b[0m\u001b[0mitem\u001b[0m\u001b[0;34m,\u001b[0m \u001b[0mvalues\u001b[0m\u001b[0;34m)\u001b[0m\u001b[0;34m\u001b[0m\u001b[0;34m\u001b[0m\u001b[0m\n\u001b[1;32m   1844\u001b[0m             \u001b[0mcache\u001b[0m\u001b[0;34m[\u001b[0m\u001b[0mitem\u001b[0m\u001b[0;34m]\u001b[0m \u001b[0;34m=\u001b[0m \u001b[0mres\u001b[0m\u001b[0;34m\u001b[0m\u001b[0;34m\u001b[0m\u001b[0m\n",
            "\u001b[0;32m/usr/local/lib/python3.6/dist-packages/pandas/core/internals.py\u001b[0m in \u001b[0;36mget\u001b[0;34m(self, item, fastpath)\u001b[0m\n\u001b[1;32m   3841\u001b[0m \u001b[0;34m\u001b[0m\u001b[0m\n\u001b[1;32m   3842\u001b[0m             \u001b[0;32mif\u001b[0m \u001b[0;32mnot\u001b[0m \u001b[0misna\u001b[0m\u001b[0;34m(\u001b[0m\u001b[0mitem\u001b[0m\u001b[0;34m)\u001b[0m\u001b[0;34m:\u001b[0m\u001b[0;34m\u001b[0m\u001b[0;34m\u001b[0m\u001b[0m\n\u001b[0;32m-> 3843\u001b[0;31m                 \u001b[0mloc\u001b[0m \u001b[0;34m=\u001b[0m \u001b[0mself\u001b[0m\u001b[0;34m.\u001b[0m\u001b[0mitems\u001b[0m\u001b[0;34m.\u001b[0m\u001b[0mget_loc\u001b[0m\u001b[0;34m(\u001b[0m\u001b[0mitem\u001b[0m\u001b[0;34m)\u001b[0m\u001b[0;34m\u001b[0m\u001b[0;34m\u001b[0m\u001b[0m\n\u001b[0m\u001b[1;32m   3844\u001b[0m             \u001b[0;32melse\u001b[0m\u001b[0;34m:\u001b[0m\u001b[0;34m\u001b[0m\u001b[0;34m\u001b[0m\u001b[0m\n\u001b[1;32m   3845\u001b[0m                 \u001b[0mindexer\u001b[0m \u001b[0;34m=\u001b[0m \u001b[0mnp\u001b[0m\u001b[0;34m.\u001b[0m\u001b[0marange\u001b[0m\u001b[0;34m(\u001b[0m\u001b[0mlen\u001b[0m\u001b[0;34m(\u001b[0m\u001b[0mself\u001b[0m\u001b[0;34m.\u001b[0m\u001b[0mitems\u001b[0m\u001b[0;34m)\u001b[0m\u001b[0;34m)\u001b[0m\u001b[0;34m[\u001b[0m\u001b[0misna\u001b[0m\u001b[0;34m(\u001b[0m\u001b[0mself\u001b[0m\u001b[0;34m.\u001b[0m\u001b[0mitems\u001b[0m\u001b[0;34m)\u001b[0m\u001b[0;34m]\u001b[0m\u001b[0;34m\u001b[0m\u001b[0;34m\u001b[0m\u001b[0m\n",
            "\u001b[0;32m/usr/local/lib/python3.6/dist-packages/pandas/core/indexes/base.py\u001b[0m in \u001b[0;36mget_loc\u001b[0;34m(self, key, method, tolerance)\u001b[0m\n\u001b[1;32m   2525\u001b[0m                 \u001b[0;32mreturn\u001b[0m \u001b[0mself\u001b[0m\u001b[0;34m.\u001b[0m\u001b[0m_engine\u001b[0m\u001b[0;34m.\u001b[0m\u001b[0mget_loc\u001b[0m\u001b[0;34m(\u001b[0m\u001b[0mkey\u001b[0m\u001b[0;34m)\u001b[0m\u001b[0;34m\u001b[0m\u001b[0;34m\u001b[0m\u001b[0m\n\u001b[1;32m   2526\u001b[0m             \u001b[0;32mexcept\u001b[0m \u001b[0mKeyError\u001b[0m\u001b[0;34m:\u001b[0m\u001b[0;34m\u001b[0m\u001b[0;34m\u001b[0m\u001b[0m\n\u001b[0;32m-> 2527\u001b[0;31m                 \u001b[0;32mreturn\u001b[0m \u001b[0mself\u001b[0m\u001b[0;34m.\u001b[0m\u001b[0m_engine\u001b[0m\u001b[0;34m.\u001b[0m\u001b[0mget_loc\u001b[0m\u001b[0;34m(\u001b[0m\u001b[0mself\u001b[0m\u001b[0;34m.\u001b[0m\u001b[0m_maybe_cast_indexer\u001b[0m\u001b[0;34m(\u001b[0m\u001b[0mkey\u001b[0m\u001b[0;34m)\u001b[0m\u001b[0;34m)\u001b[0m\u001b[0;34m\u001b[0m\u001b[0;34m\u001b[0m\u001b[0m\n\u001b[0m\u001b[1;32m   2528\u001b[0m \u001b[0;34m\u001b[0m\u001b[0m\n\u001b[1;32m   2529\u001b[0m         \u001b[0mindexer\u001b[0m \u001b[0;34m=\u001b[0m \u001b[0mself\u001b[0m\u001b[0;34m.\u001b[0m\u001b[0mget_indexer\u001b[0m\u001b[0;34m(\u001b[0m\u001b[0;34m[\u001b[0m\u001b[0mkey\u001b[0m\u001b[0;34m]\u001b[0m\u001b[0;34m,\u001b[0m \u001b[0mmethod\u001b[0m\u001b[0;34m=\u001b[0m\u001b[0mmethod\u001b[0m\u001b[0;34m,\u001b[0m \u001b[0mtolerance\u001b[0m\u001b[0;34m=\u001b[0m\u001b[0mtolerance\u001b[0m\u001b[0;34m)\u001b[0m\u001b[0;34m\u001b[0m\u001b[0;34m\u001b[0m\u001b[0m\n",
            "\u001b[0;32mpandas/_libs/index.pyx\u001b[0m in \u001b[0;36mpandas._libs.index.IndexEngine.get_loc\u001b[0;34m()\u001b[0m\n",
            "\u001b[0;32mpandas/_libs/index.pyx\u001b[0m in \u001b[0;36mpandas._libs.index.IndexEngine.get_loc\u001b[0;34m()\u001b[0m\n",
            "\u001b[0;32mpandas/_libs/hashtable_class_helper.pxi\u001b[0m in \u001b[0;36mpandas._libs.hashtable.PyObjectHashTable.get_item\u001b[0;34m()\u001b[0m\n",
            "\u001b[0;32mpandas/_libs/hashtable_class_helper.pxi\u001b[0m in \u001b[0;36mpandas._libs.hashtable.PyObjectHashTable.get_item\u001b[0;34m()\u001b[0m\n",
            "\u001b[0;31mKeyError\u001b[0m: 1"
          ]
        }
      ]
    },
    {
      "metadata": {
        "id": "RcA9J4FpbqFa",
        "colab_type": "code",
        "colab": {
          "base_uri": "https://localhost:8080/",
          "height": 119
        },
        "outputId": "2be494ee-29b2-4bbd-8e5a-ad93e6aced1d"
      },
      "cell_type": "code",
      "source": [
        "# a single label(not int)，作为 column_indexer\n",
        "df['A']"
      ],
      "execution_count": 27,
      "outputs": [
        {
          "output_type": "execute_result",
          "data": {
            "text/plain": [
              "0   -0.714037\n",
              "1   -0.373514\n",
              "2    1.623963\n",
              "3    0.172279\n",
              "4   -1.381293\n",
              "Name: A, dtype: float64"
            ]
          },
          "metadata": {
            "tags": []
          },
          "execution_count": 27
        }
      ]
    },
    {
      "metadata": {
        "id": "CJRhaNuMbwZo",
        "colab_type": "code",
        "colab": {
          "base_uri": "https://localhost:8080/",
          "height": 760
        },
        "outputId": "1300116a-8e1e-4116-f903-f2e3d9cce8c7"
      },
      "cell_type": "code",
      "source": [
        "# a slice of label(not int)，不能作为 column_indexer\n",
        "df['A':'B']"
      ],
      "execution_count": 28,
      "outputs": [
        {
          "output_type": "error",
          "ename": "TypeError",
          "evalue": "ignored",
          "traceback": [
            "\u001b[0;31m---------------------------------------------------------------------------\u001b[0m",
            "\u001b[0;31mTypeError\u001b[0m                                 Traceback (most recent call last)",
            "\u001b[0;32m<ipython-input-28-1e96426425f1>\u001b[0m in \u001b[0;36m<module>\u001b[0;34m()\u001b[0m\n\u001b[0;32m----> 1\u001b[0;31m \u001b[0mdf\u001b[0m\u001b[0;34m[\u001b[0m\u001b[0;34m'A'\u001b[0m\u001b[0;34m:\u001b[0m\u001b[0;34m'B'\u001b[0m\u001b[0;34m]\u001b[0m\u001b[0;34m\u001b[0m\u001b[0;34m\u001b[0m\u001b[0m\n\u001b[0m",
            "\u001b[0;32m/usr/local/lib/python3.6/dist-packages/pandas/core/frame.py\u001b[0m in \u001b[0;36m__getitem__\u001b[0;34m(self, key)\u001b[0m\n\u001b[1;32m   2125\u001b[0m \u001b[0;34m\u001b[0m\u001b[0m\n\u001b[1;32m   2126\u001b[0m         \u001b[0;31m# see if we can slice the rows\u001b[0m\u001b[0;34m\u001b[0m\u001b[0;34m\u001b[0m\u001b[0;34m\u001b[0m\u001b[0m\n\u001b[0;32m-> 2127\u001b[0;31m         \u001b[0mindexer\u001b[0m \u001b[0;34m=\u001b[0m \u001b[0mconvert_to_index_sliceable\u001b[0m\u001b[0;34m(\u001b[0m\u001b[0mself\u001b[0m\u001b[0;34m,\u001b[0m \u001b[0mkey\u001b[0m\u001b[0;34m)\u001b[0m\u001b[0;34m\u001b[0m\u001b[0;34m\u001b[0m\u001b[0m\n\u001b[0m\u001b[1;32m   2128\u001b[0m         \u001b[0;32mif\u001b[0m \u001b[0mindexer\u001b[0m \u001b[0;32mis\u001b[0m \u001b[0;32mnot\u001b[0m \u001b[0;32mNone\u001b[0m\u001b[0;34m:\u001b[0m\u001b[0;34m\u001b[0m\u001b[0;34m\u001b[0m\u001b[0m\n\u001b[1;32m   2129\u001b[0m             \u001b[0;32mreturn\u001b[0m \u001b[0mself\u001b[0m\u001b[0;34m.\u001b[0m\u001b[0m_getitem_slice\u001b[0m\u001b[0;34m(\u001b[0m\u001b[0mindexer\u001b[0m\u001b[0;34m)\u001b[0m\u001b[0;34m\u001b[0m\u001b[0;34m\u001b[0m\u001b[0m\n",
            "\u001b[0;32m/usr/local/lib/python3.6/dist-packages/pandas/core/indexing.py\u001b[0m in \u001b[0;36mconvert_to_index_sliceable\u001b[0;34m(obj, key)\u001b[0m\n\u001b[1;32m   1978\u001b[0m     \u001b[0midx\u001b[0m \u001b[0;34m=\u001b[0m \u001b[0mobj\u001b[0m\u001b[0;34m.\u001b[0m\u001b[0mindex\u001b[0m\u001b[0;34m\u001b[0m\u001b[0;34m\u001b[0m\u001b[0m\n\u001b[1;32m   1979\u001b[0m     \u001b[0;32mif\u001b[0m \u001b[0misinstance\u001b[0m\u001b[0;34m(\u001b[0m\u001b[0mkey\u001b[0m\u001b[0;34m,\u001b[0m \u001b[0mslice\u001b[0m\u001b[0;34m)\u001b[0m\u001b[0;34m:\u001b[0m\u001b[0;34m\u001b[0m\u001b[0;34m\u001b[0m\u001b[0m\n\u001b[0;32m-> 1980\u001b[0;31m         \u001b[0;32mreturn\u001b[0m \u001b[0midx\u001b[0m\u001b[0;34m.\u001b[0m\u001b[0m_convert_slice_indexer\u001b[0m\u001b[0;34m(\u001b[0m\u001b[0mkey\u001b[0m\u001b[0;34m,\u001b[0m \u001b[0mkind\u001b[0m\u001b[0;34m=\u001b[0m\u001b[0;34m'getitem'\u001b[0m\u001b[0;34m)\u001b[0m\u001b[0;34m\u001b[0m\u001b[0;34m\u001b[0m\u001b[0m\n\u001b[0m\u001b[1;32m   1981\u001b[0m \u001b[0;34m\u001b[0m\u001b[0m\n\u001b[1;32m   1982\u001b[0m     \u001b[0;32melif\u001b[0m \u001b[0misinstance\u001b[0m\u001b[0;34m(\u001b[0m\u001b[0mkey\u001b[0m\u001b[0;34m,\u001b[0m \u001b[0mcompat\u001b[0m\u001b[0;34m.\u001b[0m\u001b[0mstring_types\u001b[0m\u001b[0;34m)\u001b[0m\u001b[0;34m:\u001b[0m\u001b[0;34m\u001b[0m\u001b[0;34m\u001b[0m\u001b[0m\n",
            "\u001b[0;32m/usr/local/lib/python3.6/dist-packages/pandas/core/indexes/base.py\u001b[0m in \u001b[0;36m_convert_slice_indexer\u001b[0;34m(self, key, kind)\u001b[0m\n\u001b[1;32m   1437\u001b[0m             \"\"\"\n\u001b[1;32m   1438\u001b[0m             \u001b[0;32mif\u001b[0m \u001b[0mself\u001b[0m\u001b[0;34m.\u001b[0m\u001b[0mis_integer\u001b[0m\u001b[0;34m(\u001b[0m\u001b[0;34m)\u001b[0m \u001b[0;32mor\u001b[0m \u001b[0mis_index_slice\u001b[0m\u001b[0;34m:\u001b[0m\u001b[0;34m\u001b[0m\u001b[0;34m\u001b[0m\u001b[0m\n\u001b[0;32m-> 1439\u001b[0;31m                 return slice(self._validate_indexer('slice', key.start, kind),\n\u001b[0m\u001b[1;32m   1440\u001b[0m                              \u001b[0mself\u001b[0m\u001b[0;34m.\u001b[0m\u001b[0m_validate_indexer\u001b[0m\u001b[0;34m(\u001b[0m\u001b[0;34m'slice'\u001b[0m\u001b[0;34m,\u001b[0m \u001b[0mkey\u001b[0m\u001b[0;34m.\u001b[0m\u001b[0mstop\u001b[0m\u001b[0;34m,\u001b[0m \u001b[0mkind\u001b[0m\u001b[0;34m)\u001b[0m\u001b[0;34m,\u001b[0m\u001b[0;34m\u001b[0m\u001b[0;34m\u001b[0m\u001b[0m\n\u001b[1;32m   1441\u001b[0m                              self._validate_indexer('slice', key.step, kind))\n",
            "\u001b[0;32m/usr/local/lib/python3.6/dist-packages/pandas/core/indexes/base.py\u001b[0m in \u001b[0;36m_validate_indexer\u001b[0;34m(self, form, key, kind)\u001b[0m\n\u001b[1;32m   3493\u001b[0m             \u001b[0;32mpass\u001b[0m\u001b[0;34m\u001b[0m\u001b[0;34m\u001b[0m\u001b[0m\n\u001b[1;32m   3494\u001b[0m         \u001b[0;32melif\u001b[0m \u001b[0mkind\u001b[0m \u001b[0;32min\u001b[0m \u001b[0;34m[\u001b[0m\u001b[0;34m'iloc'\u001b[0m\u001b[0;34m,\u001b[0m \u001b[0;34m'getitem'\u001b[0m\u001b[0;34m]\u001b[0m\u001b[0;34m:\u001b[0m\u001b[0;34m\u001b[0m\u001b[0;34m\u001b[0m\u001b[0m\n\u001b[0;32m-> 3495\u001b[0;31m             \u001b[0mself\u001b[0m\u001b[0;34m.\u001b[0m\u001b[0m_invalid_indexer\u001b[0m\u001b[0;34m(\u001b[0m\u001b[0mform\u001b[0m\u001b[0;34m,\u001b[0m \u001b[0mkey\u001b[0m\u001b[0;34m)\u001b[0m\u001b[0;34m\u001b[0m\u001b[0;34m\u001b[0m\u001b[0m\n\u001b[0m\u001b[1;32m   3496\u001b[0m         \u001b[0;32mreturn\u001b[0m \u001b[0mkey\u001b[0m\u001b[0;34m\u001b[0m\u001b[0;34m\u001b[0m\u001b[0m\n\u001b[1;32m   3497\u001b[0m \u001b[0;34m\u001b[0m\u001b[0m\n",
            "\u001b[0;32m/usr/local/lib/python3.6/dist-packages/pandas/core/indexes/base.py\u001b[0m in \u001b[0;36m_invalid_indexer\u001b[0;34m(self, form, key)\u001b[0m\n\u001b[1;32m   1574\u001b[0m                         \"indexers [{key}] of {kind}\".format(\n\u001b[1;32m   1575\u001b[0m                             \u001b[0mform\u001b[0m\u001b[0;34m=\u001b[0m\u001b[0mform\u001b[0m\u001b[0;34m,\u001b[0m \u001b[0mklass\u001b[0m\u001b[0;34m=\u001b[0m\u001b[0mtype\u001b[0m\u001b[0;34m(\u001b[0m\u001b[0mself\u001b[0m\u001b[0;34m)\u001b[0m\u001b[0;34m,\u001b[0m \u001b[0mkey\u001b[0m\u001b[0;34m=\u001b[0m\u001b[0mkey\u001b[0m\u001b[0;34m,\u001b[0m\u001b[0;34m\u001b[0m\u001b[0;34m\u001b[0m\u001b[0m\n\u001b[0;32m-> 1576\u001b[0;31m                             kind=type(key)))\n\u001b[0m\u001b[1;32m   1577\u001b[0m \u001b[0;34m\u001b[0m\u001b[0m\n\u001b[1;32m   1578\u001b[0m     \u001b[0;32mdef\u001b[0m \u001b[0mget_duplicates\u001b[0m\u001b[0;34m(\u001b[0m\u001b[0mself\u001b[0m\u001b[0;34m)\u001b[0m\u001b[0;34m:\u001b[0m\u001b[0;34m\u001b[0m\u001b[0;34m\u001b[0m\u001b[0m\n",
            "\u001b[0;31mTypeError\u001b[0m: cannot do slice indexing on <class 'pandas.core.indexes.range.RangeIndex'> with these indexers [A] of <class 'str'>"
          ]
        }
      ]
    },
    {
      "metadata": {
        "id": "1MfaqUUvcBju",
        "colab_type": "code",
        "colab": {
          "base_uri": "https://localhost:8080/",
          "height": 204
        },
        "outputId": "60b42765-ed72-4ed8-9726-53fc6b75177a"
      },
      "cell_type": "code",
      "source": [
        "# an array of label(not int)，作为 column_indexer\n",
        "df[['A', 'B']]"
      ],
      "execution_count": 29,
      "outputs": [
        {
          "output_type": "execute_result",
          "data": {
            "text/html": [
              "<div>\n",
              "<style scoped>\n",
              "    .dataframe tbody tr th:only-of-type {\n",
              "        vertical-align: middle;\n",
              "    }\n",
              "\n",
              "    .dataframe tbody tr th {\n",
              "        vertical-align: top;\n",
              "    }\n",
              "\n",
              "    .dataframe thead th {\n",
              "        text-align: right;\n",
              "    }\n",
              "</style>\n",
              "<table border=\"1\" class=\"dataframe\">\n",
              "  <thead>\n",
              "    <tr style=\"text-align: right;\">\n",
              "      <th></th>\n",
              "      <th>A</th>\n",
              "      <th>B</th>\n",
              "    </tr>\n",
              "  </thead>\n",
              "  <tbody>\n",
              "    <tr>\n",
              "      <th>0</th>\n",
              "      <td>-0.714037</td>\n",
              "      <td>0.985196</td>\n",
              "    </tr>\n",
              "    <tr>\n",
              "      <th>1</th>\n",
              "      <td>-0.373514</td>\n",
              "      <td>-0.473069</td>\n",
              "    </tr>\n",
              "    <tr>\n",
              "      <th>2</th>\n",
              "      <td>1.623963</td>\n",
              "      <td>-1.026008</td>\n",
              "    </tr>\n",
              "    <tr>\n",
              "      <th>3</th>\n",
              "      <td>0.172279</td>\n",
              "      <td>1.332424</td>\n",
              "    </tr>\n",
              "    <tr>\n",
              "      <th>4</th>\n",
              "      <td>-1.381293</td>\n",
              "      <td>-0.773336</td>\n",
              "    </tr>\n",
              "  </tbody>\n",
              "</table>\n",
              "</div>"
            ],
            "text/plain": [
              "          A         B\n",
              "0 -0.714037  0.985196\n",
              "1 -0.373514 -0.473069\n",
              "2  1.623963 -1.026008\n",
              "3  0.172279  1.332424\n",
              "4 -1.381293 -0.773336"
            ]
          },
          "metadata": {
            "tags": []
          },
          "execution_count": 29
        }
      ]
    },
    {
      "metadata": {
        "id": "0O5kesl-InfB",
        "colab_type": "text"
      },
      "cell_type": "markdown",
      "source": [
        "## **NEVER USE** attribute access  \n",
        "attrbute access 指\n",
        "  * 通过 Series.*attr* 的方式访问 Series 中的 Scalar value\n",
        "  * 通过 DataFrame.*attr* 的方式访问 DataFrame 中的 Series\n",
        "\n",
        "通过属性操作符（.）访问的方式有一些隐含的限制：\n",
        "\n",
        "* 属性名必须是合法的 python 变量名，如：df.1 无法访问一个 column_name 为 1 的 Series\n",
        "* 属性名不能与 pandas 的已有方法同名，如：df.sum 无法访问一个 column_name 为 sum 的 Series\n",
        "\n",
        "**推荐使用标准方式**：Series\\['1'\\] 和 DataFrame\\['sum'\\]"
      ]
    },
    {
      "metadata": {
        "id": "dTOEr_S3MNSv",
        "colab_type": "text"
      },
      "cell_type": "markdown",
      "source": [
        "## Label-based indexing：loc()，闭区间\n",
        "\n",
        "\\[start: end\\] 返回的结果永远是**闭区间**\n",
        "\n",
        "支持的 indexer 形式：\n",
        "\n",
        "* a single label，'a'\n",
        "* a list or array of labels，\\['a', 'd', 'e']\n",
        "* a slice object with labels， 'a': 'f'\n",
        "* a boolean array\n",
        "* a callable，这种方式的好处是 method chain 的时候无需定义临时变量"
      ]
    },
    {
      "metadata": {
        "id": "LDYuBI9gMRBh",
        "colab_type": "text"
      },
      "cell_type": "markdown",
      "source": [
        "## Integer-based indexing：iloc()，左闭右开区间\n",
        "\n",
        "支持的 indexer 形式：\n",
        "\n",
        "* an integer，5\n",
        "* a list or array of intergers，\\[5, 2, 3]\n",
        "* a slice object with ints，5:8\n",
        "* a boolean array\n",
        "* a callable，这种方式的好处是 method chain 的时候无需定义临时变量"
      ]
    },
    {
      "metadata": {
        "id": "0QYiqrE6RN6K",
        "colab_type": "text"
      },
      "cell_type": "markdown",
      "source": [
        "## Boolean indexing\n",
        "\n",
        "* **&** for `and`\n",
        "* **|** for `or`\n",
        "* **~** for `not`\n",
        "\n",
        "selection by callable 和 boolean indexing 本质上都是先计算生成一个 boolean array，再根据 boolean array 的 True/False 值决定如何选择展示哪些 row 或者 column。\n",
        "\n",
        "boolean array 的计算大量用到了 [broadcasting](#scrollTo=I_zFdBHIqzwh)"
      ]
    },
    {
      "metadata": {
        "id": "SPYp08eXfF6X",
        "colab_type": "text"
      },
      "cell_type": "markdown",
      "source": [
        "# GroupBy：split-apply-combine"
      ]
    },
    {
      "metadata": {
        "id": "vexTXmm_NktG",
        "colab_type": "text"
      },
      "cell_type": "markdown",
      "source": [
        "## split\n",
        "\n",
        "在 DataFrame 上进行 groupby() 操作后，会生成一个 [GroupBy 对象](http://pandas.pydata.org/pandas-docs/stable/reference/groupby.html)，其主要特征是：\n",
        "\n",
        "* GroupBy.groups 属性，该属性是一个 dict，以 group name 作为 key，该 group 对应的 labels 作为 value。可以看出，GroupBy 的实现就是以这种方式记录每个 group 对应于 DataFrame 中的哪些行（记录行 label）\n",
        "* 默认情况下，被用来进行分组的列将会作为 GroupBy 对象的 index。如果不想让分组列作为 index，可以通过 `as_index=False` 控制"
      ]
    },
    {
      "metadata": {
        "id": "WTF6uM_zG1pC",
        "colab_type": "code",
        "colab": {}
      },
      "cell_type": "code",
      "source": [
        "lst = [1, 2, 3, 1, 2, 3, 1]\n",
        "s = pd.Series([1, 2, 3, 10, 20, 30, 100], lst)\n",
        "grouped = s.groupby(level=0)"
      ],
      "execution_count": 0,
      "outputs": []
    },
    {
      "metadata": {
        "id": "l8PfvFSTHB5C",
        "colab_type": "code",
        "colab": {
          "base_uri": "https://localhost:8080/",
          "height": 68
        },
        "outputId": "4be76888-0a6d-499a-f41c-4d1cb736af1e"
      },
      "cell_type": "code",
      "source": [
        "grouped.groups"
      ],
      "execution_count": 31,
      "outputs": [
        {
          "output_type": "execute_result",
          "data": {
            "text/plain": [
              "{1: Int64Index([1, 1, 1], dtype='int64'),\n",
              " 2: Int64Index([2, 2], dtype='int64'),\n",
              " 3: Int64Index([3, 3], dtype='int64')}"
            ]
          },
          "metadata": {
            "tags": []
          },
          "execution_count": 31
        }
      ]
    },
    {
      "metadata": {
        "id": "OCsutE3QHlFX",
        "colab_type": "code",
        "colab": {}
      },
      "cell_type": "code",
      "source": [
        "df = pd.DataFrame(np.random.randn(10, 4), columns=list('abcd'))"
      ],
      "execution_count": 0,
      "outputs": []
    },
    {
      "metadata": {
        "id": "400oWbJlKc0V",
        "colab_type": "code",
        "colab": {
          "base_uri": "https://localhost:8080/",
          "height": 359
        },
        "outputId": "a79f89d0-c82b-4fbc-e070-ec88047a320b"
      },
      "cell_type": "code",
      "source": [
        "df.loc[0:3, 'a'] = 0\n",
        "df.loc[4:9, 'a'] = 1\n",
        "df"
      ],
      "execution_count": 33,
      "outputs": [
        {
          "output_type": "execute_result",
          "data": {
            "text/html": [
              "<div>\n",
              "<style scoped>\n",
              "    .dataframe tbody tr th:only-of-type {\n",
              "        vertical-align: middle;\n",
              "    }\n",
              "\n",
              "    .dataframe tbody tr th {\n",
              "        vertical-align: top;\n",
              "    }\n",
              "\n",
              "    .dataframe thead th {\n",
              "        text-align: right;\n",
              "    }\n",
              "</style>\n",
              "<table border=\"1\" class=\"dataframe\">\n",
              "  <thead>\n",
              "    <tr style=\"text-align: right;\">\n",
              "      <th></th>\n",
              "      <th>a</th>\n",
              "      <th>b</th>\n",
              "      <th>c</th>\n",
              "      <th>d</th>\n",
              "    </tr>\n",
              "  </thead>\n",
              "  <tbody>\n",
              "    <tr>\n",
              "      <th>0</th>\n",
              "      <td>0.0</td>\n",
              "      <td>-0.100382</td>\n",
              "      <td>-0.449147</td>\n",
              "      <td>0.488557</td>\n",
              "    </tr>\n",
              "    <tr>\n",
              "      <th>1</th>\n",
              "      <td>0.0</td>\n",
              "      <td>-0.673950</td>\n",
              "      <td>-1.809978</td>\n",
              "      <td>1.198749</td>\n",
              "    </tr>\n",
              "    <tr>\n",
              "      <th>2</th>\n",
              "      <td>0.0</td>\n",
              "      <td>-0.035278</td>\n",
              "      <td>-0.535449</td>\n",
              "      <td>-1.035267</td>\n",
              "    </tr>\n",
              "    <tr>\n",
              "      <th>3</th>\n",
              "      <td>0.0</td>\n",
              "      <td>-0.636080</td>\n",
              "      <td>-1.092783</td>\n",
              "      <td>-0.365746</td>\n",
              "    </tr>\n",
              "    <tr>\n",
              "      <th>4</th>\n",
              "      <td>1.0</td>\n",
              "      <td>-0.024261</td>\n",
              "      <td>2.179978</td>\n",
              "      <td>0.944765</td>\n",
              "    </tr>\n",
              "    <tr>\n",
              "      <th>5</th>\n",
              "      <td>1.0</td>\n",
              "      <td>0.350835</td>\n",
              "      <td>0.251649</td>\n",
              "      <td>-0.976479</td>\n",
              "    </tr>\n",
              "    <tr>\n",
              "      <th>6</th>\n",
              "      <td>1.0</td>\n",
              "      <td>0.204405</td>\n",
              "      <td>-0.605482</td>\n",
              "      <td>-0.776737</td>\n",
              "    </tr>\n",
              "    <tr>\n",
              "      <th>7</th>\n",
              "      <td>1.0</td>\n",
              "      <td>0.000094</td>\n",
              "      <td>1.479518</td>\n",
              "      <td>-1.738882</td>\n",
              "    </tr>\n",
              "    <tr>\n",
              "      <th>8</th>\n",
              "      <td>1.0</td>\n",
              "      <td>0.514011</td>\n",
              "      <td>-0.399292</td>\n",
              "      <td>0.512736</td>\n",
              "    </tr>\n",
              "    <tr>\n",
              "      <th>9</th>\n",
              "      <td>1.0</td>\n",
              "      <td>0.124726</td>\n",
              "      <td>1.532928</td>\n",
              "      <td>-0.048746</td>\n",
              "    </tr>\n",
              "  </tbody>\n",
              "</table>\n",
              "</div>"
            ],
            "text/plain": [
              "     a         b         c         d\n",
              "0  0.0 -0.100382 -0.449147  0.488557\n",
              "1  0.0 -0.673950 -1.809978  1.198749\n",
              "2  0.0 -0.035278 -0.535449 -1.035267\n",
              "3  0.0 -0.636080 -1.092783 -0.365746\n",
              "4  1.0 -0.024261  2.179978  0.944765\n",
              "5  1.0  0.350835  0.251649 -0.976479\n",
              "6  1.0  0.204405 -0.605482 -0.776737\n",
              "7  1.0  0.000094  1.479518 -1.738882\n",
              "8  1.0  0.514011 -0.399292  0.512736\n",
              "9  1.0  0.124726  1.532928 -0.048746"
            ]
          },
          "metadata": {
            "tags": []
          },
          "execution_count": 33
        }
      ]
    },
    {
      "metadata": {
        "id": "v1w8OEfILDdF",
        "colab_type": "code",
        "colab": {
          "base_uri": "https://localhost:8080/",
          "height": 142
        },
        "outputId": "f11b7046-e9fa-4b48-de88-776fad66c358"
      },
      "cell_type": "code",
      "source": [
        "df.groupby(['a']).sum()"
      ],
      "execution_count": 34,
      "outputs": [
        {
          "output_type": "execute_result",
          "data": {
            "text/html": [
              "<div>\n",
              "<style scoped>\n",
              "    .dataframe tbody tr th:only-of-type {\n",
              "        vertical-align: middle;\n",
              "    }\n",
              "\n",
              "    .dataframe tbody tr th {\n",
              "        vertical-align: top;\n",
              "    }\n",
              "\n",
              "    .dataframe thead th {\n",
              "        text-align: right;\n",
              "    }\n",
              "</style>\n",
              "<table border=\"1\" class=\"dataframe\">\n",
              "  <thead>\n",
              "    <tr style=\"text-align: right;\">\n",
              "      <th></th>\n",
              "      <th>b</th>\n",
              "      <th>c</th>\n",
              "      <th>d</th>\n",
              "    </tr>\n",
              "    <tr>\n",
              "      <th>a</th>\n",
              "      <th></th>\n",
              "      <th></th>\n",
              "      <th></th>\n",
              "    </tr>\n",
              "  </thead>\n",
              "  <tbody>\n",
              "    <tr>\n",
              "      <th>0.0</th>\n",
              "      <td>-1.445691</td>\n",
              "      <td>-3.887357</td>\n",
              "      <td>0.286293</td>\n",
              "    </tr>\n",
              "    <tr>\n",
              "      <th>1.0</th>\n",
              "      <td>1.169810</td>\n",
              "      <td>4.439298</td>\n",
              "      <td>-2.083342</td>\n",
              "    </tr>\n",
              "  </tbody>\n",
              "</table>\n",
              "</div>"
            ],
            "text/plain": [
              "            b         c         d\n",
              "a                                \n",
              "0.0 -1.445691 -3.887357  0.286293\n",
              "1.0  1.169810  4.439298 -2.083342"
            ]
          },
          "metadata": {
            "tags": []
          },
          "execution_count": 34
        }
      ]
    },
    {
      "metadata": {
        "id": "4hBardHTQp9N",
        "colab_type": "code",
        "colab": {
          "base_uri": "https://localhost:8080/",
          "height": 111
        },
        "outputId": "69fe63a1-6a10-4bd0-e985-8b8f941c8174"
      },
      "cell_type": "code",
      "source": [
        "df.groupby(['a'], as_index=False).sum()"
      ],
      "execution_count": 35,
      "outputs": [
        {
          "output_type": "execute_result",
          "data": {
            "text/html": [
              "<div>\n",
              "<style scoped>\n",
              "    .dataframe tbody tr th:only-of-type {\n",
              "        vertical-align: middle;\n",
              "    }\n",
              "\n",
              "    .dataframe tbody tr th {\n",
              "        vertical-align: top;\n",
              "    }\n",
              "\n",
              "    .dataframe thead th {\n",
              "        text-align: right;\n",
              "    }\n",
              "</style>\n",
              "<table border=\"1\" class=\"dataframe\">\n",
              "  <thead>\n",
              "    <tr style=\"text-align: right;\">\n",
              "      <th></th>\n",
              "      <th>a</th>\n",
              "      <th>b</th>\n",
              "      <th>c</th>\n",
              "      <th>d</th>\n",
              "    </tr>\n",
              "  </thead>\n",
              "  <tbody>\n",
              "    <tr>\n",
              "      <th>0</th>\n",
              "      <td>0.0</td>\n",
              "      <td>-1.445691</td>\n",
              "      <td>-3.887357</td>\n",
              "      <td>0.286293</td>\n",
              "    </tr>\n",
              "    <tr>\n",
              "      <th>1</th>\n",
              "      <td>1.0</td>\n",
              "      <td>1.169810</td>\n",
              "      <td>4.439298</td>\n",
              "      <td>-2.083342</td>\n",
              "    </tr>\n",
              "  </tbody>\n",
              "</table>\n",
              "</div>"
            ],
            "text/plain": [
              "     a         b         c         d\n",
              "0  0.0 -1.445691 -3.887357  0.286293\n",
              "1  1.0  1.169810  4.439298 -2.083342"
            ]
          },
          "metadata": {
            "tags": []
          },
          "execution_count": 35
        }
      ]
    },
    {
      "metadata": {
        "id": "2yca7RnJXZ2g",
        "colab_type": "text"
      },
      "cell_type": "markdown",
      "source": [
        "## apply\n",
        "\n",
        "* groupwise：aggregation，对全组数据求聚合值\n",
        "  * 输入是一个组\n",
        "  * 输出是一个值\n",
        "* elementwise：transform，对全组数据进行 transform\n",
        "  * 输入是一个组\n",
        "  * 输出是一个组（或者可以 broadcasting 成一个组）\n",
        "* groupwise：filter，组级别的过滤\n",
        "  * 输入是一个组\n",
        "  * 输出是一个 boolean array，对每个组返回 True/False，值为 False 的组被过滤"
      ]
    },
    {
      "metadata": {
        "id": "1sYPR6QVqMXU",
        "colab_type": "text"
      },
      "cell_type": "markdown",
      "source": [
        "# 二元操作的注意事项"
      ]
    },
    {
      "metadata": {
        "id": "I_zFdBHIqzwh",
        "colab_type": "text"
      },
      "cell_type": "markdown",
      "source": [
        "## broadcasting\n",
        "\n",
        "broadcasting 发生在二元操作的两边具有不同的数据类型时\n",
        "\n",
        "* **一边是 Scalar，一边是 Series**：则 `Scalar` broadcasting 成具有相同长度的 `Series`\n",
        "* **一边是 Scalar，一边是 DataFrame**：则 `Scalar` broadcasting 成同 shape 的 `DataFrame`\n",
        "* **一边是 Series，一边是 DataFrame**：则 `Series` broadcasting 成具有相同长度的 `DataFrame`  \n"
      ]
    },
    {
      "metadata": {
        "id": "6CQo6RHsq3H6",
        "colab_type": "text"
      },
      "cell_type": "markdown",
      "source": [
        "## missing data\n",
        "\n",
        "* fill_value\n",
        "  * 如果操作两边一个是 NaN，一个有值，可以用 fill_value 的值代替 NaN\n",
        "  * 如果两边都是 NaN，则结果一定是 NaN\n",
        "* fill_na：用 fill_na 指定的值替换结果里面的 NaN\n",
        "* **np.nan != np.nan**，equals 方法用来测试相等性，忽略 NaN"
      ]
    },
    {
      "metadata": {
        "id": "znTwcPU0tphO",
        "colab_type": "code",
        "colab": {
          "base_uri": "https://localhost:8080/",
          "height": 34
        },
        "outputId": "f6b5bd8b-49c1-46b3-c250-eef8f4071184"
      },
      "cell_type": "code",
      "source": [
        "np.nan == np.nan"
      ],
      "execution_count": 36,
      "outputs": [
        {
          "output_type": "execute_result",
          "data": {
            "text/plain": [
              "False"
            ]
          },
          "metadata": {
            "tags": []
          },
          "execution_count": 36
        }
      ]
    },
    {
      "metadata": {
        "id": "3PAslqb1uE6-",
        "colab_type": "code",
        "colab": {
          "base_uri": "https://localhost:8080/",
          "height": 51
        },
        "outputId": "d1c10f20-9c1e-45ae-b5ee-8c8174f25ad2"
      },
      "cell_type": "code",
      "source": [
        "s1 = pd.Series([np.nan])\n",
        "s2 = pd.Series([np.nan])\n",
        "s1 == s2"
      ],
      "execution_count": 37,
      "outputs": [
        {
          "output_type": "execute_result",
          "data": {
            "text/plain": [
              "0    False\n",
              "dtype: bool"
            ]
          },
          "metadata": {
            "tags": []
          },
          "execution_count": 37
        }
      ]
    },
    {
      "metadata": {
        "id": "AfU5FtD_uMxq",
        "colab_type": "code",
        "colab": {
          "base_uri": "https://localhost:8080/",
          "height": 34
        },
        "outputId": "2cb4cc33-3fd9-44ef-da3c-d1332c22539c"
      },
      "cell_type": "code",
      "source": [
        "s1.equals(s2)"
      ],
      "execution_count": 38,
      "outputs": [
        {
          "output_type": "execute_result",
          "data": {
            "text/plain": [
              "True"
            ]
          },
          "metadata": {
            "tags": []
          },
          "execution_count": 38
        }
      ]
    },
    {
      "metadata": {
        "id": "F2o65DgxfIPQ",
        "colab_type": "text"
      },
      "cell_type": "markdown",
      "source": [
        "# Visualization"
      ]
    },
    {
      "metadata": {
        "id": "tryw27d4eEaU",
        "colab_type": "code",
        "colab": {}
      },
      "cell_type": "code",
      "source": [
        "import matplotlib.pyplot as plt"
      ],
      "execution_count": 0,
      "outputs": []
    },
    {
      "metadata": {
        "id": "q5_O3REtdhzn",
        "colab_type": "code",
        "colab": {}
      },
      "cell_type": "code",
      "source": [
        "df = pd.DataFrame(np.random.randn(300, 4), columns=list('ABCD'))"
      ],
      "execution_count": 0,
      "outputs": []
    },
    {
      "metadata": {
        "id": "4e5PZnVcd9E1",
        "colab_type": "code",
        "colab": {
          "base_uri": "https://localhost:8080/",
          "height": 364
        },
        "outputId": "a31f2f71-1503-404f-caf5-069082855073"
      },
      "cell_type": "code",
      "source": [
        "df.plot(x = df.index, y = 'A')"
      ],
      "execution_count": 41,
      "outputs": [
        {
          "output_type": "execute_result",
          "data": {
            "text/plain": [
              "<matplotlib.axes._subplots.AxesSubplot at 0x7fd962dea9e8>"
            ]
          },
          "metadata": {
            "tags": []
          },
          "execution_count": 41
        },
        {
          "output_type": "display_data",
          "data": {
            "image/png": "[encoded data removed]",
            "text/plain": [
              "<Figure size 576x396 with 1 Axes>"
            ]
          },
          "metadata": {
            "tags": []
          }
        }
      ]
    },
    {
      "metadata": {
        "id": "xH0qw7Ke-j0F",
        "colab_type": "text"
      },
      "cell_type": "markdown",
      "source": [
        "# 常见问题"
      ]
    },
    {
      "metadata": {
        "id": "HbGzBPre-sOL",
        "colab_type": "text"
      },
      "cell_type": "markdown",
      "source": [
        "## values、get_values() 与 array、to_numpy()\n",
        "\n",
        "这四个值都用来表示容器类型中数据部分，不包含容器中的元数据部分。\n",
        "\n",
        "* 对于 index 来说，不包含 name 等\n",
        "* 对于 Series 来说，不包含 index 等\n",
        "* 对于 DataFrame 来说，不包含 index、columns 等\n",
        "\n",
        "array 和 to_numpy() 是 **pandas 0.24** 以后引入的，语义更加明确\n",
        "\n",
        "* 原来的 values，其 dtype 只能包含 numpy 支持的类型，对于 Period/Categorical 这类 pandas 新增类型，其 dtype 通通显示为 object。array 支持所有 pandas 数据类型\n",
        "* 如果想获得底层的 numpy ndarray，统一使用 to_numpy()\n",
        "* 对于 DataFrame 来说，to_numpy() 很可能是个昂贵操作\n",
        "\n",
        "\n",
        "**NumPy arrays have one dtype for the entire array, while pandas DataFrames have one dtype per column. **When you call DataFrame.to_numpy(), pandas will find the NumPy dtype that can hold all of the dtypes in the DataFrame. This may end up being `object`, which requires casting every value to a Python object.\n",
        "\n",
        "\n",
        "values 和 get_values() 不再推荐使用"
      ]
    },
    {
      "metadata": {
        "id": "mm8N0le5DlbV",
        "colab_type": "code",
        "colab": {
          "base_uri": "https://localhost:8080/",
          "height": 207
        },
        "outputId": "8aec0acb-5bbe-43d7-95db-407441bb4d39"
      },
      "cell_type": "code",
      "source": [
        "!pip show pandas"
      ],
      "execution_count": 42,
      "outputs": [
        {
          "output_type": "stream",
          "text": [
            "Name: pandas\n",
            "Version: 0.22.0\n",
            "Summary: Powerful data structures for data analysis, time series,and statistics\n",
            "Home-page: http://pandas.pydata.org\n",
            "Author: The PyData Development Team\n",
            "Author-email: pydata@googlegroups.com\n",
            "License: BSD\n",
            "Location: /usr/local/lib/python3.6/dist-packages\n",
            "Requires: pytz, numpy, python-dateutil\n",
            "Required-by: xarray, vega-datasets, statsmodels, stable-baselines, pymc3, pandas-profiling, pandas-gbq, pandas-datareader, mlxtend, magenta, gspread-dataframe, fix-yahoo-finance, featuretools, fbprophet, fastai, cufflinks, altair\n"
          ],
          "name": "stdout"
        }
      ]
    },
    {
      "metadata": {
        "id": "BljEoaqGDDMX",
        "colab_type": "code",
        "colab": {
          "base_uri": "https://localhost:8080/",
          "height": 182
        },
        "outputId": "0407dbfd-bb32-44e8-8bd2-e336af70eb08"
      },
      "cell_type": "code",
      "source": [
        "idx = pd.period_range('2000', periods=4)\n",
        "idx.array"
      ],
      "execution_count": 43,
      "outputs": [
        {
          "output_type": "error",
          "ename": "AttributeError",
          "evalue": "ignored",
          "traceback": [
            "\u001b[0;31m---------------------------------------------------------------------------\u001b[0m",
            "\u001b[0;31mAttributeError\u001b[0m                            Traceback (most recent call last)",
            "\u001b[0;32m<ipython-input-43-0982f0527ff8>\u001b[0m in \u001b[0;36m<module>\u001b[0;34m()\u001b[0m\n\u001b[1;32m      1\u001b[0m \u001b[0midx\u001b[0m \u001b[0;34m=\u001b[0m \u001b[0mpd\u001b[0m\u001b[0;34m.\u001b[0m\u001b[0mperiod_range\u001b[0m\u001b[0;34m(\u001b[0m\u001b[0;34m'2000'\u001b[0m\u001b[0;34m,\u001b[0m \u001b[0mperiods\u001b[0m\u001b[0;34m=\u001b[0m\u001b[0;36m4\u001b[0m\u001b[0;34m)\u001b[0m\u001b[0;34m\u001b[0m\u001b[0;34m\u001b[0m\u001b[0m\n\u001b[0;32m----> 2\u001b[0;31m \u001b[0midx\u001b[0m\u001b[0;34m.\u001b[0m\u001b[0marray\u001b[0m\u001b[0;34m\u001b[0m\u001b[0;34m\u001b[0m\u001b[0m\n\u001b[0m",
            "\u001b[0;31mAttributeError\u001b[0m: 'PeriodIndex' object has no attribute 'array'"
          ]
        }
      ]
    },
    {
      "metadata": {
        "id": "zbCmU_0-DhaK",
        "colab_type": "code",
        "colab": {
          "base_uri": "https://localhost:8080/",
          "height": 165
        },
        "outputId": "3c7b9edf-8543-42fd-dbb2-84a762124f70"
      },
      "cell_type": "code",
      "source": [
        "idx.to_numpy()"
      ],
      "execution_count": 44,
      "outputs": [
        {
          "output_type": "error",
          "ename": "AttributeError",
          "evalue": "ignored",
          "traceback": [
            "\u001b[0;31m---------------------------------------------------------------------------\u001b[0m",
            "\u001b[0;31mAttributeError\u001b[0m                            Traceback (most recent call last)",
            "\u001b[0;32m<ipython-input-44-95d45e03bd49>\u001b[0m in \u001b[0;36m<module>\u001b[0;34m()\u001b[0m\n\u001b[0;32m----> 1\u001b[0;31m \u001b[0midx\u001b[0m\u001b[0;34m.\u001b[0m\u001b[0mto_numpy\u001b[0m\u001b[0;34m(\u001b[0m\u001b[0;34m)\u001b[0m\u001b[0;34m\u001b[0m\u001b[0;34m\u001b[0m\u001b[0m\n\u001b[0m",
            "\u001b[0;31mAttributeError\u001b[0m: 'PeriodIndex' object has no attribute 'to_numpy'"
          ]
        }
      ]
    },
    {
      "metadata": {
        "id": "gScPY32DGHWy",
        "colab_type": "text"
      },
      "cell_type": "markdown",
      "source": [
        "# Glossary\n",
        "\n"
      ]
    },
    {
      "metadata": {
        "id": "BJU8mqZCG-pG",
        "colab_type": "text"
      },
      "cell_type": "markdown",
      "source": [
        "## top level\n",
        "\n",
        "### general data structure\n",
        "\n",
        "* [Series](http://pandas.pydata.org/pandas-docs/stable/reference/series.html)\n",
        "* [DataFrame](http://pandas.pydata.org/pandas-docs/stable/reference/frame.html)\n",
        "* [Index](http://pandas.pydata.org/pandas-docs/stable/reference/indexing.html#index)\n",
        "\n",
        "### [extended numpy type system](http://pandas.pydata.org/pandas-docs/stable/reference/arrays.html)\n",
        "\n",
        "* [Timestamp](http://pandas.pydata.org/pandas-docs/stable/reference/api/pandas.Timestamp.html#pandas.Timestamp)\n",
        "* [Timedelta](http://pandas.pydata.org/pandas-docs/stable/reference/api/pandas.Timedelta.html#pandas.Timedelta)\n",
        "* [Period](http://pandas.pydata.org/pandas-docs/stable/reference/api/pandas.Period.html#pandas.Period)\n",
        "* [Interval](http://pandas.pydata.org/pandas-docs/stable/reference/api/pandas.Interval.html#pandas.Interval)\n",
        "* [Categorical](http://pandas.pydata.org/pandas-docs/stable/reference/api/pandas.Categorical.html#pandas.Categorical)\n"
      ]
    }
  ]
}